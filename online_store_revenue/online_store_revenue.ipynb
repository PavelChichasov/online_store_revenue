{
 "cells": [
  {
   "cell_type": "markdown",
   "metadata": {},
   "source": [
    "# Проверка гипотез для увеличения выручки интернет-магазина"
   ]
  },
  {
   "cell_type": "markdown",
   "metadata": {},
   "source": [
    "**Задачи проекта:**\n",
    "\n",
    "1. Приоритизация гипотез по увеличению выручки интернет-магазина\n",
    "2. Проведение A/B-теста \n",
    "3. Анализ результатов"
   ]
  },
  {
   "cell_type": "markdown",
   "metadata": {},
   "source": [
    "# Описание данных\n",
    "\n",
    "**Данные для первой части**\n",
    "\n",
    "*Файл /datasets/hypothesis.csv*\n",
    "\n",
    "* Hypothesis — краткое описание гипотезы;\n",
    "* Reach — охват пользователей по 10-балльной шкале;\n",
    "* Impact — влияние на пользователей по 10-балльной шкале;\n",
    "* Confidence — уверенность в гипотезе по 10-балльной шкале;\n",
    "* Efforts — затраты ресурсов на проверку гипотезы по 10-балльной шкале. Чем больше значение Efforts, тем дороже проверка гипотезы.\n",
    "\n",
    "**Данные для второй части**\n",
    "\n",
    "*Файл /datasets/orders.csv*\n",
    "\n",
    "* transactionId — идентификатор заказа;\n",
    "* visitorId — идентификатор пользователя, совершившего заказ;\n",
    "* date — дата, когда был совершён заказ;\n",
    "* revenue — выручка заказа;\n",
    "* group — группа A/B-теста, в которую попал заказ.\n",
    "\n",
    "*Файл /datasets/visitors.csv*\n",
    "\n",
    "* date — дата;\n",
    "* group — группа A/B-теста;\n",
    "* visitors — количество пользователей в указанную дату в указанной группе A/B-теста"
   ]
  },
  {
   "cell_type": "markdown",
   "metadata": {},
   "source": [
    "**Импорт библиотек**"
   ]
  },
  {
   "cell_type": "code",
   "execution_count": 1,
   "metadata": {},
   "outputs": [],
   "source": [
    "import pandas as pd\n",
    "import numpy as np\n",
    "import matplotlib.pyplot as plt\n",
    "import datetime as dt\n",
    "import scipy.stats as stats"
   ]
  },
  {
   "cell_type": "markdown",
   "metadata": {},
   "source": [
    "## Часть 1. Приоритизация гипотез."
   ]
  },
  {
   "cell_type": "markdown",
   "metadata": {},
   "source": [
    "### Предобработка данных"
   ]
  },
  {
   "cell_type": "markdown",
   "metadata": {},
   "source": [
    "Изучим таблицу с представленными гипотезами"
   ]
  },
  {
   "cell_type": "code",
   "execution_count": 2,
   "metadata": {
    "scrolled": false
   },
   "outputs": [
    {
     "data": {
      "text/html": [
       "<div>\n",
       "<style scoped>\n",
       "    .dataframe tbody tr th:only-of-type {\n",
       "        vertical-align: middle;\n",
       "    }\n",
       "\n",
       "    .dataframe tbody tr th {\n",
       "        vertical-align: top;\n",
       "    }\n",
       "\n",
       "    .dataframe thead th {\n",
       "        text-align: right;\n",
       "    }\n",
       "</style>\n",
       "<table border=\"1\" class=\"dataframe\">\n",
       "  <thead>\n",
       "    <tr style=\"text-align: right;\">\n",
       "      <th></th>\n",
       "      <th>Hypothesis</th>\n",
       "      <th>Reach</th>\n",
       "      <th>Impact</th>\n",
       "      <th>Confidence</th>\n",
       "      <th>Efforts</th>\n",
       "    </tr>\n",
       "  </thead>\n",
       "  <tbody>\n",
       "    <tr>\n",
       "      <th>0</th>\n",
       "      <td>Добавить два новых канала привлечения трафика, что позволит привлекать на 30% больше пользователей</td>\n",
       "      <td>3</td>\n",
       "      <td>10</td>\n",
       "      <td>8</td>\n",
       "      <td>6</td>\n",
       "    </tr>\n",
       "    <tr>\n",
       "      <th>1</th>\n",
       "      <td>Запустить собственную службу доставки, что сократит срок доставки заказов</td>\n",
       "      <td>2</td>\n",
       "      <td>5</td>\n",
       "      <td>4</td>\n",
       "      <td>10</td>\n",
       "    </tr>\n",
       "    <tr>\n",
       "      <th>2</th>\n",
       "      <td>Добавить блоки рекомендаций товаров на сайт интернет магазина, чтобы повысить конверсию и средний чек заказа</td>\n",
       "      <td>8</td>\n",
       "      <td>3</td>\n",
       "      <td>7</td>\n",
       "      <td>3</td>\n",
       "    </tr>\n",
       "    <tr>\n",
       "      <th>3</th>\n",
       "      <td>Изменить структура категорий, что увеличит конверсию, т.к. пользователи быстрее найдут нужный товар</td>\n",
       "      <td>8</td>\n",
       "      <td>3</td>\n",
       "      <td>3</td>\n",
       "      <td>8</td>\n",
       "    </tr>\n",
       "    <tr>\n",
       "      <th>4</th>\n",
       "      <td>Изменить цвет фона главной страницы, чтобы увеличить вовлеченность пользователей</td>\n",
       "      <td>3</td>\n",
       "      <td>1</td>\n",
       "      <td>1</td>\n",
       "      <td>1</td>\n",
       "    </tr>\n",
       "    <tr>\n",
       "      <th>5</th>\n",
       "      <td>Добавить страницу отзывов клиентов о магазине, что позволит увеличить количество заказов</td>\n",
       "      <td>3</td>\n",
       "      <td>2</td>\n",
       "      <td>2</td>\n",
       "      <td>3</td>\n",
       "    </tr>\n",
       "    <tr>\n",
       "      <th>6</th>\n",
       "      <td>Показать на главной странице баннеры с актуальными акциями и распродажами, чтобы увеличить конверсию</td>\n",
       "      <td>5</td>\n",
       "      <td>3</td>\n",
       "      <td>8</td>\n",
       "      <td>3</td>\n",
       "    </tr>\n",
       "    <tr>\n",
       "      <th>7</th>\n",
       "      <td>Добавить форму подписки на все основные страницы, чтобы собрать базу клиентов для email-рассылок</td>\n",
       "      <td>10</td>\n",
       "      <td>7</td>\n",
       "      <td>8</td>\n",
       "      <td>5</td>\n",
       "    </tr>\n",
       "    <tr>\n",
       "      <th>8</th>\n",
       "      <td>Запустить акцию, дающую скидку на товар в день рождения</td>\n",
       "      <td>1</td>\n",
       "      <td>9</td>\n",
       "      <td>9</td>\n",
       "      <td>5</td>\n",
       "    </tr>\n",
       "  </tbody>\n",
       "</table>\n",
       "</div>"
      ],
      "text/plain": [
       "                                                                                                     Hypothesis  \\\n",
       "0  Добавить два новых канала привлечения трафика, что позволит привлекать на 30% больше пользователей             \n",
       "1  Запустить собственную службу доставки, что сократит срок доставки заказов                                      \n",
       "2  Добавить блоки рекомендаций товаров на сайт интернет магазина, чтобы повысить конверсию и средний чек заказа   \n",
       "3  Изменить структура категорий, что увеличит конверсию, т.к. пользователи быстрее найдут нужный товар            \n",
       "4  Изменить цвет фона главной страницы, чтобы увеличить вовлеченность пользователей                               \n",
       "5  Добавить страницу отзывов клиентов о магазине, что позволит увеличить количество заказов                       \n",
       "6  Показать на главной странице баннеры с актуальными акциями и распродажами, чтобы увеличить конверсию           \n",
       "7  Добавить форму подписки на все основные страницы, чтобы собрать базу клиентов для email-рассылок               \n",
       "8  Запустить акцию, дающую скидку на товар в день рождения                                                        \n",
       "\n",
       "   Reach  Impact  Confidence  Efforts  \n",
       "0  3      10      8           6        \n",
       "1  2      5       4           10       \n",
       "2  8      3       7           3        \n",
       "3  8      3       3           8        \n",
       "4  3      1       1           1        \n",
       "5  3      2       2           3        \n",
       "6  5      3       8           3        \n",
       "7  10     7       8           5        \n",
       "8  1      9       9           5        "
      ]
     },
     "metadata": {},
     "output_type": "display_data"
    },
    {
     "name": "stdout",
     "output_type": "stream",
     "text": [
      "<class 'pandas.core.frame.DataFrame'>\n",
      "RangeIndex: 9 entries, 0 to 8\n",
      "Data columns (total 5 columns):\n",
      " #   Column      Non-Null Count  Dtype \n",
      "---  ------      --------------  ----- \n",
      " 0   Hypothesis  9 non-null      object\n",
      " 1   Reach       9 non-null      int64 \n",
      " 2   Impact      9 non-null      int64 \n",
      " 3   Confidence  9 non-null      int64 \n",
      " 4   Efforts     9 non-null      int64 \n",
      "dtypes: int64(4), object(1)\n",
      "memory usage: 492.0+ bytes\n"
     ]
    }
   ],
   "source": [
    "try:\n",
    "    hypothesis = pd.read_csv('/datasets/hypothesis.csv')\n",
    "except:\n",
    "    hypothesis = pd.read_csv('https://code.s3.yandex.net/datasets/hypothesis.csv')\n",
    "pd.options.display.max_colwidth = 1\n",
    "display(hypothesis)\n",
    "hypothesis.info()"
   ]
  },
  {
   "cell_type": "markdown",
   "metadata": {},
   "source": [
    "Приведем названия столбцов к нижнему регистру."
   ]
  },
  {
   "cell_type": "code",
   "execution_count": 3,
   "metadata": {},
   "outputs": [],
   "source": [
    "hypothesis.columns = hypothesis.columns.str.lower()"
   ]
  },
  {
   "cell_type": "markdown",
   "metadata": {},
   "source": [
    "Таблица представленна корректно, переходим к приоритизации гипотез."
   ]
  },
  {
   "cell_type": "markdown",
   "metadata": {},
   "source": [
    "### ICE"
   ]
  },
  {
   "cell_type": "code",
   "execution_count": 4,
   "metadata": {},
   "outputs": [
    {
     "data": {
      "text/html": [
       "<div>\n",
       "<style scoped>\n",
       "    .dataframe tbody tr th:only-of-type {\n",
       "        vertical-align: middle;\n",
       "    }\n",
       "\n",
       "    .dataframe tbody tr th {\n",
       "        vertical-align: top;\n",
       "    }\n",
       "\n",
       "    .dataframe thead th {\n",
       "        text-align: right;\n",
       "    }\n",
       "</style>\n",
       "<table border=\"1\" class=\"dataframe\">\n",
       "  <thead>\n",
       "    <tr style=\"text-align: right;\">\n",
       "      <th></th>\n",
       "      <th>hypothesis</th>\n",
       "      <th>reach</th>\n",
       "      <th>impact</th>\n",
       "      <th>confidence</th>\n",
       "      <th>efforts</th>\n",
       "      <th>ice</th>\n",
       "    </tr>\n",
       "  </thead>\n",
       "  <tbody>\n",
       "    <tr>\n",
       "      <th>8</th>\n",
       "      <td>Запустить акцию, дающую скидку на товар в день рождения</td>\n",
       "      <td>1</td>\n",
       "      <td>9</td>\n",
       "      <td>9</td>\n",
       "      <td>5</td>\n",
       "      <td>16.20</td>\n",
       "    </tr>\n",
       "    <tr>\n",
       "      <th>0</th>\n",
       "      <td>Добавить два новых канала привлечения трафика, что позволит привлекать на 30% больше пользователей</td>\n",
       "      <td>3</td>\n",
       "      <td>10</td>\n",
       "      <td>8</td>\n",
       "      <td>6</td>\n",
       "      <td>13.33</td>\n",
       "    </tr>\n",
       "    <tr>\n",
       "      <th>7</th>\n",
       "      <td>Добавить форму подписки на все основные страницы, чтобы собрать базу клиентов для email-рассылок</td>\n",
       "      <td>10</td>\n",
       "      <td>7</td>\n",
       "      <td>8</td>\n",
       "      <td>5</td>\n",
       "      <td>11.20</td>\n",
       "    </tr>\n",
       "    <tr>\n",
       "      <th>6</th>\n",
       "      <td>Показать на главной странице баннеры с актуальными акциями и распродажами, чтобы увеличить конверсию</td>\n",
       "      <td>5</td>\n",
       "      <td>3</td>\n",
       "      <td>8</td>\n",
       "      <td>3</td>\n",
       "      <td>8.00</td>\n",
       "    </tr>\n",
       "    <tr>\n",
       "      <th>2</th>\n",
       "      <td>Добавить блоки рекомендаций товаров на сайт интернет магазина, чтобы повысить конверсию и средний чек заказа</td>\n",
       "      <td>8</td>\n",
       "      <td>3</td>\n",
       "      <td>7</td>\n",
       "      <td>3</td>\n",
       "      <td>7.00</td>\n",
       "    </tr>\n",
       "    <tr>\n",
       "      <th>1</th>\n",
       "      <td>Запустить собственную службу доставки, что сократит срок доставки заказов</td>\n",
       "      <td>2</td>\n",
       "      <td>5</td>\n",
       "      <td>4</td>\n",
       "      <td>10</td>\n",
       "      <td>2.00</td>\n",
       "    </tr>\n",
       "    <tr>\n",
       "      <th>5</th>\n",
       "      <td>Добавить страницу отзывов клиентов о магазине, что позволит увеличить количество заказов</td>\n",
       "      <td>3</td>\n",
       "      <td>2</td>\n",
       "      <td>2</td>\n",
       "      <td>3</td>\n",
       "      <td>1.33</td>\n",
       "    </tr>\n",
       "    <tr>\n",
       "      <th>3</th>\n",
       "      <td>Изменить структура категорий, что увеличит конверсию, т.к. пользователи быстрее найдут нужный товар</td>\n",
       "      <td>8</td>\n",
       "      <td>3</td>\n",
       "      <td>3</td>\n",
       "      <td>8</td>\n",
       "      <td>1.12</td>\n",
       "    </tr>\n",
       "    <tr>\n",
       "      <th>4</th>\n",
       "      <td>Изменить цвет фона главной страницы, чтобы увеличить вовлеченность пользователей</td>\n",
       "      <td>3</td>\n",
       "      <td>1</td>\n",
       "      <td>1</td>\n",
       "      <td>1</td>\n",
       "      <td>1.00</td>\n",
       "    </tr>\n",
       "  </tbody>\n",
       "</table>\n",
       "</div>"
      ],
      "text/plain": [
       "                                                                                                     hypothesis  \\\n",
       "8  Запустить акцию, дающую скидку на товар в день рождения                                                        \n",
       "0  Добавить два новых канала привлечения трафика, что позволит привлекать на 30% больше пользователей             \n",
       "7  Добавить форму подписки на все основные страницы, чтобы собрать базу клиентов для email-рассылок               \n",
       "6  Показать на главной странице баннеры с актуальными акциями и распродажами, чтобы увеличить конверсию           \n",
       "2  Добавить блоки рекомендаций товаров на сайт интернет магазина, чтобы повысить конверсию и средний чек заказа   \n",
       "1  Запустить собственную службу доставки, что сократит срок доставки заказов                                      \n",
       "5  Добавить страницу отзывов клиентов о магазине, что позволит увеличить количество заказов                       \n",
       "3  Изменить структура категорий, что увеличит конверсию, т.к. пользователи быстрее найдут нужный товар            \n",
       "4  Изменить цвет фона главной страницы, чтобы увеличить вовлеченность пользователей                               \n",
       "\n",
       "   reach  impact  confidence  efforts    ice  \n",
       "8  1      9       9           5        16.20  \n",
       "0  3      10      8           6        13.33  \n",
       "7  10     7       8           5        11.20  \n",
       "6  5      3       8           3        8.00   \n",
       "2  8      3       7           3        7.00   \n",
       "1  2      5       4           10       2.00   \n",
       "5  3      2       2           3        1.33   \n",
       "3  8      3       3           8        1.12   \n",
       "4  3      1       1           1        1.00   "
      ]
     },
     "metadata": {},
     "output_type": "display_data"
    }
   ],
   "source": [
    "hypothesis['ice'] = round(hypothesis['impact'] * hypothesis['confidence'] / hypothesis['efforts'], 2)\n",
    "display(hypothesis.sort_values(by='ice', ascending=False))"
   ]
  },
  {
   "cell_type": "markdown",
   "metadata": {},
   "source": [
    "### RICE"
   ]
  },
  {
   "cell_type": "code",
   "execution_count": 5,
   "metadata": {},
   "outputs": [
    {
     "data": {
      "text/html": [
       "<div>\n",
       "<style scoped>\n",
       "    .dataframe tbody tr th:only-of-type {\n",
       "        vertical-align: middle;\n",
       "    }\n",
       "\n",
       "    .dataframe tbody tr th {\n",
       "        vertical-align: top;\n",
       "    }\n",
       "\n",
       "    .dataframe thead th {\n",
       "        text-align: right;\n",
       "    }\n",
       "</style>\n",
       "<table border=\"1\" class=\"dataframe\">\n",
       "  <thead>\n",
       "    <tr style=\"text-align: right;\">\n",
       "      <th></th>\n",
       "      <th>hypothesis</th>\n",
       "      <th>reach</th>\n",
       "      <th>impact</th>\n",
       "      <th>confidence</th>\n",
       "      <th>efforts</th>\n",
       "      <th>ice</th>\n",
       "      <th>rice</th>\n",
       "    </tr>\n",
       "  </thead>\n",
       "  <tbody>\n",
       "    <tr>\n",
       "      <th>7</th>\n",
       "      <td>Добавить форму подписки на все основные страницы, чтобы собрать базу клиентов для email-рассылок</td>\n",
       "      <td>10</td>\n",
       "      <td>7</td>\n",
       "      <td>8</td>\n",
       "      <td>5</td>\n",
       "      <td>11.20</td>\n",
       "      <td>112.0</td>\n",
       "    </tr>\n",
       "    <tr>\n",
       "      <th>2</th>\n",
       "      <td>Добавить блоки рекомендаций товаров на сайт интернет магазина, чтобы повысить конверсию и средний чек заказа</td>\n",
       "      <td>8</td>\n",
       "      <td>3</td>\n",
       "      <td>7</td>\n",
       "      <td>3</td>\n",
       "      <td>7.00</td>\n",
       "      <td>56.0</td>\n",
       "    </tr>\n",
       "    <tr>\n",
       "      <th>0</th>\n",
       "      <td>Добавить два новых канала привлечения трафика, что позволит привлекать на 30% больше пользователей</td>\n",
       "      <td>3</td>\n",
       "      <td>10</td>\n",
       "      <td>8</td>\n",
       "      <td>6</td>\n",
       "      <td>13.33</td>\n",
       "      <td>40.0</td>\n",
       "    </tr>\n",
       "    <tr>\n",
       "      <th>6</th>\n",
       "      <td>Показать на главной странице баннеры с актуальными акциями и распродажами, чтобы увеличить конверсию</td>\n",
       "      <td>5</td>\n",
       "      <td>3</td>\n",
       "      <td>8</td>\n",
       "      <td>3</td>\n",
       "      <td>8.00</td>\n",
       "      <td>40.0</td>\n",
       "    </tr>\n",
       "    <tr>\n",
       "      <th>8</th>\n",
       "      <td>Запустить акцию, дающую скидку на товар в день рождения</td>\n",
       "      <td>1</td>\n",
       "      <td>9</td>\n",
       "      <td>9</td>\n",
       "      <td>5</td>\n",
       "      <td>16.20</td>\n",
       "      <td>16.2</td>\n",
       "    </tr>\n",
       "    <tr>\n",
       "      <th>3</th>\n",
       "      <td>Изменить структура категорий, что увеличит конверсию, т.к. пользователи быстрее найдут нужный товар</td>\n",
       "      <td>8</td>\n",
       "      <td>3</td>\n",
       "      <td>3</td>\n",
       "      <td>8</td>\n",
       "      <td>1.12</td>\n",
       "      <td>9.0</td>\n",
       "    </tr>\n",
       "    <tr>\n",
       "      <th>1</th>\n",
       "      <td>Запустить собственную службу доставки, что сократит срок доставки заказов</td>\n",
       "      <td>2</td>\n",
       "      <td>5</td>\n",
       "      <td>4</td>\n",
       "      <td>10</td>\n",
       "      <td>2.00</td>\n",
       "      <td>4.0</td>\n",
       "    </tr>\n",
       "    <tr>\n",
       "      <th>5</th>\n",
       "      <td>Добавить страницу отзывов клиентов о магазине, что позволит увеличить количество заказов</td>\n",
       "      <td>3</td>\n",
       "      <td>2</td>\n",
       "      <td>2</td>\n",
       "      <td>3</td>\n",
       "      <td>1.33</td>\n",
       "      <td>4.0</td>\n",
       "    </tr>\n",
       "    <tr>\n",
       "      <th>4</th>\n",
       "      <td>Изменить цвет фона главной страницы, чтобы увеличить вовлеченность пользователей</td>\n",
       "      <td>3</td>\n",
       "      <td>1</td>\n",
       "      <td>1</td>\n",
       "      <td>1</td>\n",
       "      <td>1.00</td>\n",
       "      <td>3.0</td>\n",
       "    </tr>\n",
       "  </tbody>\n",
       "</table>\n",
       "</div>"
      ],
      "text/plain": [
       "                                                                                                     hypothesis  \\\n",
       "7  Добавить форму подписки на все основные страницы, чтобы собрать базу клиентов для email-рассылок               \n",
       "2  Добавить блоки рекомендаций товаров на сайт интернет магазина, чтобы повысить конверсию и средний чек заказа   \n",
       "0  Добавить два новых канала привлечения трафика, что позволит привлекать на 30% больше пользователей             \n",
       "6  Показать на главной странице баннеры с актуальными акциями и распродажами, чтобы увеличить конверсию           \n",
       "8  Запустить акцию, дающую скидку на товар в день рождения                                                        \n",
       "3  Изменить структура категорий, что увеличит конверсию, т.к. пользователи быстрее найдут нужный товар            \n",
       "1  Запустить собственную службу доставки, что сократит срок доставки заказов                                      \n",
       "5  Добавить страницу отзывов клиентов о магазине, что позволит увеличить количество заказов                       \n",
       "4  Изменить цвет фона главной страницы, чтобы увеличить вовлеченность пользователей                               \n",
       "\n",
       "   reach  impact  confidence  efforts    ice   rice  \n",
       "7  10     7       8           5        11.20  112.0  \n",
       "2  8      3       7           3        7.00   56.0   \n",
       "0  3      10      8           6        13.33  40.0   \n",
       "6  5      3       8           3        8.00   40.0   \n",
       "8  1      9       9           5        16.20  16.2   \n",
       "3  8      3       3           8        1.12   9.0    \n",
       "1  2      5       4           10       2.00   4.0    \n",
       "5  3      2       2           3        1.33   4.0    \n",
       "4  3      1       1           1        1.00   3.0    "
      ]
     },
     "metadata": {},
     "output_type": "display_data"
    }
   ],
   "source": [
    "hypothesis['rice'] = hypothesis['reach'] * hypothesis['impact'] * hypothesis['confidence'] / hypothesis['efforts']\n",
    "display(hypothesis.sort_values(by='rice', ascending=False))"
   ]
  },
  {
   "cell_type": "markdown",
   "metadata": {},
   "source": [
    "**Вывод:**\n",
    "\n",
    "Различие в результатах приоритизации гипотез методами ICE и RICE заключается в том, что в первом случае не учитывается охват пользователей, которых затронет проверка гипотезы.\n",
    "По результатам приоритизации гипотезы с индексами 0 и 7 в обоих случаях попали в \"топ-3\". Рекомендуется в первую очередь проверить гипотезу с индексом 7, т.к. при примерно равных показателях сложности и уверенности она затронет больше пользователей, а значит результат будет более точным."
   ]
  },
  {
   "cell_type": "markdown",
   "metadata": {},
   "source": [
    "## Часть 2. Анализ А/В теста."
   ]
  },
  {
   "cell_type": "markdown",
   "metadata": {},
   "source": [
    "### Предобработка данных"
   ]
  },
  {
   "cell_type": "code",
   "execution_count": 6,
   "metadata": {
    "scrolled": false
   },
   "outputs": [
    {
     "data": {
      "text/html": [
       "<div>\n",
       "<style scoped>\n",
       "    .dataframe tbody tr th:only-of-type {\n",
       "        vertical-align: middle;\n",
       "    }\n",
       "\n",
       "    .dataframe tbody tr th {\n",
       "        vertical-align: top;\n",
       "    }\n",
       "\n",
       "    .dataframe thead th {\n",
       "        text-align: right;\n",
       "    }\n",
       "</style>\n",
       "<table border=\"1\" class=\"dataframe\">\n",
       "  <thead>\n",
       "    <tr style=\"text-align: right;\">\n",
       "      <th></th>\n",
       "      <th>transactionId</th>\n",
       "      <th>visitorId</th>\n",
       "      <th>date</th>\n",
       "      <th>revenue</th>\n",
       "      <th>group</th>\n",
       "    </tr>\n",
       "  </thead>\n",
       "  <tbody>\n",
       "    <tr>\n",
       "      <th>0</th>\n",
       "      <td>3667963787</td>\n",
       "      <td>3312258926</td>\n",
       "      <td>2019-08-15</td>\n",
       "      <td>1650</td>\n",
       "      <td>B</td>\n",
       "    </tr>\n",
       "    <tr>\n",
       "      <th>1</th>\n",
       "      <td>2804400009</td>\n",
       "      <td>3642806036</td>\n",
       "      <td>2019-08-15</td>\n",
       "      <td>730</td>\n",
       "      <td>B</td>\n",
       "    </tr>\n",
       "    <tr>\n",
       "      <th>2</th>\n",
       "      <td>2961555356</td>\n",
       "      <td>4069496402</td>\n",
       "      <td>2019-08-15</td>\n",
       "      <td>400</td>\n",
       "      <td>A</td>\n",
       "    </tr>\n",
       "    <tr>\n",
       "      <th>3</th>\n",
       "      <td>3797467345</td>\n",
       "      <td>1196621759</td>\n",
       "      <td>2019-08-15</td>\n",
       "      <td>9759</td>\n",
       "      <td>B</td>\n",
       "    </tr>\n",
       "    <tr>\n",
       "      <th>4</th>\n",
       "      <td>2282983706</td>\n",
       "      <td>2322279887</td>\n",
       "      <td>2019-08-15</td>\n",
       "      <td>2308</td>\n",
       "      <td>B</td>\n",
       "    </tr>\n",
       "  </tbody>\n",
       "</table>\n",
       "</div>"
      ],
      "text/plain": [
       "   transactionId   visitorId        date  revenue group\n",
       "0  3667963787     3312258926  2019-08-15  1650     B   \n",
       "1  2804400009     3642806036  2019-08-15  730      B   \n",
       "2  2961555356     4069496402  2019-08-15  400      A   \n",
       "3  3797467345     1196621759  2019-08-15  9759     B   \n",
       "4  2282983706     2322279887  2019-08-15  2308     B   "
      ]
     },
     "metadata": {},
     "output_type": "display_data"
    },
    {
     "name": "stdout",
     "output_type": "stream",
     "text": [
      "<class 'pandas.core.frame.DataFrame'>\n",
      "RangeIndex: 1197 entries, 0 to 1196\n",
      "Data columns (total 5 columns):\n",
      " #   Column         Non-Null Count  Dtype \n",
      "---  ------         --------------  ----- \n",
      " 0   transactionId  1197 non-null   int64 \n",
      " 1   visitorId      1197 non-null   int64 \n",
      " 2   date           1197 non-null   object\n",
      " 3   revenue        1197 non-null   int64 \n",
      " 4   group          1197 non-null   object\n",
      "dtypes: int64(3), object(2)\n",
      "memory usage: 46.9+ KB\n"
     ]
    }
   ],
   "source": [
    "try:\n",
    "    orders = pd.read_csv('/datasets/orders.csv')\n",
    "except:\n",
    "    orders = pd.read_csv('https://code.s3.yandex.net/datasets/orders.csv')\n",
    "\n",
    "display(orders.head())\n",
    "orders.info()"
   ]
  },
  {
   "cell_type": "markdown",
   "metadata": {},
   "source": [
    "Проверим таблицу на дубликаты, изменим наименования столбцов и формат даты."
   ]
  },
  {
   "cell_type": "code",
   "execution_count": 7,
   "metadata": {},
   "outputs": [
    {
     "data": {
      "text/plain": [
       "0"
      ]
     },
     "execution_count": 7,
     "metadata": {},
     "output_type": "execute_result"
    }
   ],
   "source": [
    "orders.duplicated().sum()"
   ]
  },
  {
   "cell_type": "code",
   "execution_count": 8,
   "metadata": {},
   "outputs": [],
   "source": [
    "orders.columns = ['transaction_id', 'visitor_id', 'date', 'revenue', 'group']"
   ]
  },
  {
   "cell_type": "markdown",
   "metadata": {},
   "source": [
    "Проверим, есть ли в таблице orders пользователи, оказавшиеся одновременно в двух группах."
   ]
  },
  {
   "cell_type": "code",
   "execution_count": 9,
   "metadata": {},
   "outputs": [
    {
     "data": {
      "text/plain": [
       "58"
      ]
     },
     "execution_count": 9,
     "metadata": {},
     "output_type": "execute_result"
    }
   ],
   "source": [
    "users_in_both_groups = orders.groupby('visitor_id', as_index=False)['group'].agg('nunique')\n",
    "\n",
    "users_in_both_groups = users_in_both_groups.query('group == 2')\n",
    "users_in_both_groups['visitor_id'].count()"
   ]
  },
  {
   "cell_type": "markdown",
   "metadata": {},
   "source": [
    "58 пользователей оказались одновременно в группах А и В. Удалим данные о заказах этих пользователей."
   ]
  },
  {
   "cell_type": "code",
   "execution_count": 10,
   "metadata": {},
   "outputs": [],
   "source": [
    "orders = orders[~orders['visitor_id'].isin(users_in_both_groups['visitor_id'])].reset_index(drop=True)"
   ]
  },
  {
   "cell_type": "code",
   "execution_count": 11,
   "metadata": {},
   "outputs": [
    {
     "name": "stdout",
     "output_type": "stream",
     "text": [
      "<class 'pandas.core.frame.DataFrame'>\n",
      "RangeIndex: 1016 entries, 0 to 1015\n",
      "Data columns (total 5 columns):\n",
      " #   Column          Non-Null Count  Dtype         \n",
      "---  ------          --------------  -----         \n",
      " 0   transaction_id  1016 non-null   int64         \n",
      " 1   visitor_id      1016 non-null   int64         \n",
      " 2   date            1016 non-null   datetime64[ns]\n",
      " 3   revenue         1016 non-null   int64         \n",
      " 4   group           1016 non-null   object        \n",
      "dtypes: datetime64[ns](1), int64(3), object(1)\n",
      "memory usage: 39.8+ KB\n"
     ]
    }
   ],
   "source": [
    "orders['date'] = orders['date'].map(lambda x: dt.datetime.strptime(x, '%Y-%m-%d'))\n",
    "orders.info()"
   ]
  },
  {
   "cell_type": "code",
   "execution_count": 12,
   "metadata": {
    "scrolled": false
   },
   "outputs": [
    {
     "data": {
      "text/html": [
       "<div>\n",
       "<style scoped>\n",
       "    .dataframe tbody tr th:only-of-type {\n",
       "        vertical-align: middle;\n",
       "    }\n",
       "\n",
       "    .dataframe tbody tr th {\n",
       "        vertical-align: top;\n",
       "    }\n",
       "\n",
       "    .dataframe thead th {\n",
       "        text-align: right;\n",
       "    }\n",
       "</style>\n",
       "<table border=\"1\" class=\"dataframe\">\n",
       "  <thead>\n",
       "    <tr style=\"text-align: right;\">\n",
       "      <th></th>\n",
       "      <th>date</th>\n",
       "      <th>group</th>\n",
       "      <th>visitors</th>\n",
       "    </tr>\n",
       "  </thead>\n",
       "  <tbody>\n",
       "    <tr>\n",
       "      <th>0</th>\n",
       "      <td>2019-08-01</td>\n",
       "      <td>A</td>\n",
       "      <td>719</td>\n",
       "    </tr>\n",
       "    <tr>\n",
       "      <th>1</th>\n",
       "      <td>2019-08-02</td>\n",
       "      <td>A</td>\n",
       "      <td>619</td>\n",
       "    </tr>\n",
       "    <tr>\n",
       "      <th>2</th>\n",
       "      <td>2019-08-03</td>\n",
       "      <td>A</td>\n",
       "      <td>507</td>\n",
       "    </tr>\n",
       "    <tr>\n",
       "      <th>3</th>\n",
       "      <td>2019-08-04</td>\n",
       "      <td>A</td>\n",
       "      <td>717</td>\n",
       "    </tr>\n",
       "    <tr>\n",
       "      <th>4</th>\n",
       "      <td>2019-08-05</td>\n",
       "      <td>A</td>\n",
       "      <td>756</td>\n",
       "    </tr>\n",
       "  </tbody>\n",
       "</table>\n",
       "</div>"
      ],
      "text/plain": [
       "         date group  visitors\n",
       "0  2019-08-01  A     719     \n",
       "1  2019-08-02  A     619     \n",
       "2  2019-08-03  A     507     \n",
       "3  2019-08-04  A     717     \n",
       "4  2019-08-05  A     756     "
      ]
     },
     "metadata": {},
     "output_type": "display_data"
    },
    {
     "name": "stdout",
     "output_type": "stream",
     "text": [
      "<class 'pandas.core.frame.DataFrame'>\n",
      "RangeIndex: 62 entries, 0 to 61\n",
      "Data columns (total 3 columns):\n",
      " #   Column    Non-Null Count  Dtype \n",
      "---  ------    --------------  ----- \n",
      " 0   date      62 non-null     object\n",
      " 1   group     62 non-null     object\n",
      " 2   visitors  62 non-null     int64 \n",
      "dtypes: int64(1), object(2)\n",
      "memory usage: 1.6+ KB\n"
     ]
    }
   ],
   "source": [
    "try:\n",
    "    visitors = pd.read_csv('/datasets/visitors.csv')\n",
    "except:\n",
    "    visitors = pd.read_csv('https://code.s3.yandex.net/datasets/visitors.csv')\n",
    "\n",
    "display(visitors.head())\n",
    "visitors.info()"
   ]
  },
  {
   "cell_type": "code",
   "execution_count": 13,
   "metadata": {},
   "outputs": [
    {
     "data": {
      "text/plain": [
       "0"
      ]
     },
     "execution_count": 13,
     "metadata": {},
     "output_type": "execute_result"
    }
   ],
   "source": [
    "orders.duplicated().sum()"
   ]
  },
  {
   "cell_type": "markdown",
   "metadata": {},
   "source": [
    "Проверим таблицу на дубликаты и изменим формат даты."
   ]
  },
  {
   "cell_type": "code",
   "execution_count": 14,
   "metadata": {},
   "outputs": [
    {
     "data": {
      "text/plain": [
       "0"
      ]
     },
     "execution_count": 14,
     "metadata": {},
     "output_type": "execute_result"
    }
   ],
   "source": [
    "visitors.duplicated().sum()"
   ]
  },
  {
   "cell_type": "code",
   "execution_count": 15,
   "metadata": {},
   "outputs": [
    {
     "name": "stdout",
     "output_type": "stream",
     "text": [
      "<class 'pandas.core.frame.DataFrame'>\n",
      "RangeIndex: 62 entries, 0 to 61\n",
      "Data columns (total 3 columns):\n",
      " #   Column    Non-Null Count  Dtype         \n",
      "---  ------    --------------  -----         \n",
      " 0   date      62 non-null     datetime64[ns]\n",
      " 1   group     62 non-null     object        \n",
      " 2   visitors  62 non-null     int64         \n",
      "dtypes: datetime64[ns](1), int64(1), object(1)\n",
      "memory usage: 1.6+ KB\n"
     ]
    }
   ],
   "source": [
    "visitors['date'] = visitors['date'].map(lambda x: dt.datetime.strptime(x, '%Y-%m-%d'))\n",
    "visitors.info()"
   ]
  },
  {
   "cell_type": "markdown",
   "metadata": {},
   "source": [
    "Данные подготовлены к работе."
   ]
  },
  {
   "cell_type": "markdown",
   "metadata": {},
   "source": [
    "### Кумулятивная выручка по группам"
   ]
  },
  {
   "cell_type": "markdown",
   "metadata": {},
   "source": [
    "Соберём агрегированные кумулятивные по дням данные о заказах и о посетителях интернет-магазина."
   ]
  },
  {
   "cell_type": "code",
   "execution_count": 16,
   "metadata": {},
   "outputs": [
    {
     "name": "stdout",
     "output_type": "stream",
     "text": [
      "        date group  orders  buyers  revenue  visitors\n",
      "0 2019-08-01  A     23      19      142779   719     \n",
      "1 2019-08-01  B     17      17      59758    713     \n",
      "2 2019-08-02  A     42      36      234381   1338    \n",
      "3 2019-08-02  B     40      39      221801   1294    \n",
      "4 2019-08-03  A     66      60      346854   1845    \n"
     ]
    }
   ],
   "source": [
    "# создаем массив уникальных пар значений дат и групп теста\n",
    "dates_groups = orders[['date','group']].drop_duplicates()\n",
    "\n",
    "# получаем агрегированные кумулятивные по дням данные о заказах \n",
    "orders_aggregated = dates_groups.apply(lambda x: orders[np.logical_and(orders['date'] <= x['date'], orders['group'] == x['group'])]\\\n",
    ".agg({'date' : 'max', 'group' : 'max', 'transaction_id' : 'nunique', 'visitor_id' : 'nunique', 'revenue' : 'sum'}), axis=1).sort_values(by=['date','group'])\n",
    "\n",
    "# получаем агрегированные кумулятивные по дням данные о посетителях интернет-магазина \n",
    "visitors_aggregated = dates_groups.apply(lambda x: visitors[np.logical_and(visitors['date'] <= x['date'], visitors['group'] == x['group'])]\\\n",
    ".agg({'date' : 'max', 'group' : 'max', 'visitors' : 'sum'}), axis=1).sort_values(by=['date','group'])\n",
    "\n",
    "# объединяем кумулятивные данные в одной таблице и присваиваем ее столбцам понятные названия\n",
    "cumulative_data = orders_aggregated.merge(visitors_aggregated, left_on=['date', 'group'], right_on=['date', 'group'])\n",
    "cumulative_data.columns = ['date', 'group', 'orders', 'buyers', 'revenue', 'visitors']\n",
    "\n",
    "print(cumulative_data.head(5))"
   ]
  },
  {
   "cell_type": "code",
   "execution_count": 17,
   "metadata": {},
   "outputs": [
    {
     "data": {
      "image/png": "[encoded data removed]",
      "text/plain": [
       "<Figure size 1200x700 with 1 Axes>"
      ]
     },
     "metadata": {},
     "output_type": "display_data"
    }
   ],
   "source": [
    "# датафрейм с кумулятивным количеством заказов и кумулятивной выручкой по дням в группе А\n",
    "cumulative_revenue_a = cumulative_data[cumulative_data['group']=='A'][['date','revenue', 'orders']]\n",
    "\n",
    "# датафрейм с кумулятивным количеством заказов и кумулятивной выручкой по дням в группе B\n",
    "cumulative_revenue_b = cumulative_data[cumulative_data['group']=='B'][['date','revenue', 'orders']]\n",
    "\n",
    "plt.figure(figsize=(12,7))\n",
    "\n",
    "# Строим график выручки группы А\n",
    "plt.plot(cumulative_revenue_a['date'], cumulative_revenue_a['revenue'], label='A')\n",
    "\n",
    "# Строим график выручки группы B\n",
    "plt.plot(cumulative_revenue_b['date'], cumulative_revenue_b['revenue'], label='B')\n",
    "\n",
    "plt.legend()\n",
    "plt.xticks(rotation=45)\n",
    "plt.title('График кумулятивной выручки по группам')\n",
    "plt.xlabel('Дата')\n",
    "plt.ylabel('Выручка')\n",
    "plt.show()"
   ]
  },
  {
   "cell_type": "markdown",
   "metadata": {},
   "source": [
    "**Вывод:**\n",
    "\n",
    "Выручка почти равномерно увеличивается в течение всего теста. В группе В наблюдается резкий рост выручки в районе 18-19 августа, вероятнее всего это выброс. Возможно он связан с аномально большой суммой заказа пользователя из этой группы или общим большим числом заказов в этот день. Выручка в обеих группах накапливается примерно одинаково, наблюдается небольшое преобладание группы В, но судить о нем рано."
   ]
  },
  {
   "cell_type": "markdown",
   "metadata": {},
   "source": [
    "### Кумулятивный средний чек по группам"
   ]
  },
  {
   "cell_type": "code",
   "execution_count": 18,
   "metadata": {
    "scrolled": false
   },
   "outputs": [
    {
     "data": {
      "image/png": "[encoded data removed]",
      "text/plain": [
       "<Figure size 1200x700 with 1 Axes>"
      ]
     },
     "metadata": {},
     "output_type": "display_data"
    }
   ],
   "source": [
    "plt.figure(figsize=(12,7))\n",
    "plt.plot(cumulative_revenue_a['date'], cumulative_revenue_a['revenue']/cumulative_revenue_a['orders'], label='A')\n",
    "plt.plot(cumulative_revenue_b['date'], cumulative_revenue_b['revenue']/cumulative_revenue_b['orders'], label='B')\n",
    "plt.legend()\n",
    "plt.xticks(rotation=45)\n",
    "plt.title('График кумулятивного среднего чека по группам')\n",
    "plt.xlabel('Дата')\n",
    "plt.ylabel('Средний чек')\n",
    "plt.show()"
   ]
  },
  {
   "cell_type": "markdown",
   "metadata": {},
   "source": [
    "**Вывод:**\n",
    "\n",
    "Средний чек для группы А устанавливается с минимальным отклонением примерно после двух недель теста, предварительно он равен примерно 7000. На средний чек в группе В выбросы повлияли сильнее, особенно тот, который мы видели на графике кумулятивной выручки за 18-19 августа. Дать оценку среднему чеку для обеих групп по такому графику не предоставляется возможным, необходимо избавиться от выбросов."
   ]
  },
  {
   "cell_type": "markdown",
   "metadata": {},
   "source": [
    "### Относительное изменение кумулятивного среднего чека группы B к группе A"
   ]
  },
  {
   "cell_type": "code",
   "execution_count": 19,
   "metadata": {
    "scrolled": false
   },
   "outputs": [
    {
     "data": {
      "image/png": "[encoded data removed]",
      "text/plain": [
       "<Figure size 1200x700 with 1 Axes>"
      ]
     },
     "metadata": {},
     "output_type": "display_data"
    }
   ],
   "source": [
    "# собираем данные в одном датафрейме\n",
    "merged_cumulative_revenue = cumulative_revenue_a.merge(cumulative_revenue_b, left_on='date', right_on='date', how='left',\\\n",
    "                                                       suffixes=['_a', '_b'])\n",
    "\n",
    "# cтроим отношение средних чеков\n",
    "plt.figure(figsize=(12,7))\n",
    "plt.plot(merged_cumulative_revenue['date'], (merged_cumulative_revenue['revenue_b']/merged_cumulative_revenue['orders_b'])\\\n",
    "         /(merged_cumulative_revenue['revenue_a']/merged_cumulative_revenue['orders_a'])-1)\n",
    "\n",
    "# добавляем ось X\n",
    "plt.axhline(y=0, color='black', linestyle='--')\n",
    "plt.xticks(rotation=45)\n",
    "plt.title('График относительного изменения кумулятивного среднего чека группы B к группе A')\n",
    "plt.xlabel('Дата')\n",
    "plt.ylabel('Величина относительного изменения')\n",
    "plt.show()"
   ]
  },
  {
   "cell_type": "markdown",
   "metadata": {},
   "source": [
    "**Вывод:**\n",
    "\n",
    "График несколько раз пересекает нулевую линию и имеет большой разбег от -0,4 до 0,5. В основном график выше нулевой линии, что означает о лучших показателях группы В. Но выводы на данном этапе делать рано, сначала необходимо избавиться от выбросов."
   ]
  },
  {
   "cell_type": "markdown",
   "metadata": {},
   "source": [
    "### Кумулятивное среднее количество заказов на посетителя по группам"
   ]
  },
  {
   "cell_type": "code",
   "execution_count": 20,
   "metadata": {},
   "outputs": [
    {
     "data": {
      "image/png": "[encoded data removed]",
      "text/plain": [
       "<Figure size 1200x700 with 1 Axes>"
      ]
     },
     "metadata": {},
     "output_type": "display_data"
    }
   ],
   "source": [
    "# считаем среднее количество заказов на посетителя\n",
    "cumulative_data['conversion'] = cumulative_data['orders']/cumulative_data['visitors']\n",
    "\n",
    "# отделяем данные по группе A\n",
    "cumulative_data_a = cumulative_data[cumulative_data['group']=='A']\n",
    "\n",
    "# отделяем данные по группе B\n",
    "cumulative_data_b = cumulative_data[cumulative_data['group']=='B']\n",
    "\n",
    "# строим графики\n",
    "plt.figure(figsize=(12,7))\n",
    "plt.plot(cumulative_data_a['date'], cumulative_data_a['conversion'], label='A')\n",
    "plt.plot(cumulative_data_b['date'], cumulative_data_b['conversion'], label='B')\n",
    "plt.legend()\n",
    "plt.xticks(rotation=45)\n",
    "plt.title('График кумулятивного среднего количества заказов на посетителя по группам')\n",
    "plt.xlabel('Дата')\n",
    "plt.ylabel('Среднее количество заказов на посетителя')\n",
    "plt.show()"
   ]
  },
  {
   "cell_type": "markdown",
   "metadata": {},
   "source": [
    "**Вывод:**\n",
    "\n",
    "Кумулятивное среднее количество заказов на посетителя в группе В стабильно выше, чем в группе А начиная с 7-го дня проведения теста."
   ]
  },
  {
   "cell_type": "markdown",
   "metadata": {},
   "source": [
    "### Относительное изменение кумулятивного среднего количества заказов на посетителя группы B к группе A"
   ]
  },
  {
   "cell_type": "code",
   "execution_count": 21,
   "metadata": {
    "scrolled": false
   },
   "outputs": [
    {
     "data": {
      "image/png": "[encoded data removed]",
      "text/plain": [
       "<Figure size 1200x700 with 1 Axes>"
      ]
     },
     "metadata": {},
     "output_type": "display_data"
    }
   ],
   "source": [
    "merged_cumulative_conversions = cumulative_data_a[['date','conversion']]\\\n",
    ".merge(cumulative_data_b[['date','conversion']], left_on='date', right_on='date', how='left', suffixes=['_a', '_b'])\n",
    "\n",
    "plt.figure(figsize=(12,7))\n",
    "plt.plot(merged_cumulative_conversions['date'],\\\n",
    "         merged_cumulative_conversions['conversion_b']/merged_cumulative_conversions['conversion_a']-1)\n",
    "\n",
    "plt.axhline(y=0, color='black', linestyle='--')\n",
    "plt.xticks(rotation=45)\n",
    "plt.title(\"Относительный прирост кумулятивного среднего количества заказов на посетителя группы B относительно группы A\")\n",
    "plt.xlabel('Дата')\n",
    "plt.ylabel('Величина относительного изменения')\n",
    "plt.show()"
   ]
  },
  {
   "cell_type": "markdown",
   "metadata": {},
   "source": [
    "**Вывод:**\n",
    "\n",
    "Начиная с 3-го дня проведения теста среднее количество заказов в группе В растет относительно группы А и в последние 2 недели проведения теста колеблется в пределах 10-20%."
   ]
  },
  {
   "cell_type": "markdown",
   "metadata": {},
   "source": [
    "### Точечный график количества заказов по пользователям"
   ]
  },
  {
   "cell_type": "code",
   "execution_count": 22,
   "metadata": {},
   "outputs": [
    {
     "data": {
      "image/png": "[encoded data removed]",
      "text/plain": [
       "<Figure size 1200x700 with 1 Axes>"
      ]
     },
     "metadata": {},
     "output_type": "display_data"
    }
   ],
   "source": [
    "orders_by_visitors = (\n",
    "    orders.groupby('visitor_id', as_index=False)\n",
    "    .agg({'transaction_id': 'nunique'})\n",
    ")\n",
    "\n",
    "orders_by_visitors.columns = ['visitor_id', 'orders']\n",
    "\n",
    "x_values = pd.Series(range(0,len(orders_by_visitors)))\n",
    "\n",
    "plt.figure(figsize=(12,7))\n",
    "plt.scatter(x_values, orders_by_visitors['orders'])\n",
    "\n",
    "plt.title('Точечный график количества заказов по пользователям')\n",
    "plt.xlabel('Пользователи')\n",
    "plt.ylabel('Количество заказов')\n",
    "plt.show()"
   ]
  },
  {
   "cell_type": "markdown",
   "metadata": {},
   "source": [
    "**Вывод:**\n",
    "\n",
    "Подавляющая часть пользователей сделали один заказ, достаточно большАя часть - 2 заказа. Их точная доля не ясна — необходимо поосчитать перцентили количества заказов на одного пользователя."
   ]
  },
  {
   "cell_type": "markdown",
   "metadata": {},
   "source": [
    "### Перцентили количества заказов на пользователя"
   ]
  },
  {
   "cell_type": "code",
   "execution_count": 23,
   "metadata": {},
   "outputs": [
    {
     "name": "stdout",
     "output_type": "stream",
     "text": [
      "[1. 2.]\n"
     ]
    }
   ],
   "source": [
    "print(np.percentile(orders_by_visitors['orders'], [95, 99])) "
   ]
  },
  {
   "cell_type": "markdown",
   "metadata": {},
   "source": [
    "**Вывод:**\n",
    "\n",
    "Не более 5% пользователей оформляли больше чем 1 заказ, 2 и более заказов делали ~1-4% пользователей.\n",
    "Выберем 1 заказ на одного пользователя за верхнюю границу числа заказов, тех кто сделал больше одного заказа будем считать аномалией."
   ]
  },
  {
   "cell_type": "markdown",
   "metadata": {},
   "source": [
    "### Точечный график стоимостей заказов"
   ]
  },
  {
   "cell_type": "code",
   "execution_count": 24,
   "metadata": {},
   "outputs": [
    {
     "data": {
      "image/png": "[encoded data removed]",
      "text/plain": [
       "<Figure size 1200x700 with 1 Axes>"
      ]
     },
     "metadata": {},
     "output_type": "display_data"
    }
   ],
   "source": [
    "x_values = pd.Series(range(0,len(orders)))\n",
    "\n",
    "plt.figure(figsize=(12,7))\n",
    "plt.scatter(x_values, orders['revenue'])\n",
    "\n",
    "plt.title('Точечный график стоимостей заказов')\n",
    "plt.xlabel('Заказы')\n",
    "plt.ylabel('Стоимость заказов')\n",
    "plt.show()"
   ]
  },
  {
   "cell_type": "markdown",
   "metadata": {},
   "source": [
    "Увеличим масштаб графика, не показывая явно выделяющиеся аномальныо большие значения."
   ]
  },
  {
   "cell_type": "code",
   "execution_count": 25,
   "metadata": {},
   "outputs": [
    {
     "data": {
      "image/png": "[encoded data removed]",
      "text/plain": [
       "<Figure size 1200x700 with 1 Axes>"
      ]
     },
     "metadata": {},
     "output_type": "display_data"
    }
   ],
   "source": [
    "plt.figure(figsize=(12,7))\n",
    "plt.scatter(x_values, orders['revenue'])\n",
    "\n",
    "plt.title('Точечный график стоимостей заказов')\n",
    "plt.xlabel('Заказы')\n",
    "plt.ylabel('Стоимость заказов')\n",
    "plt.ylim([0,150000])\n",
    "plt.show()"
   ]
  },
  {
   "cell_type": "markdown",
   "metadata": {},
   "source": [
    "**Вывод:**\n",
    "\n",
    "На графике отчетливо выделяется один заказ, влияние которого мы видели на графиках кумулятивного среднего чека и кумулятивной выручки. Это явный выброс, который сильно влияет на анализ исследования. Практически все остальные заказы сливаются в одну область и для того чтобы определить верхнюю границу \"нормальной\" стоимости заказа необходимо посчитать перцентили."
   ]
  },
  {
   "cell_type": "markdown",
   "metadata": {},
   "source": [
    "### Перцентили стоимости заказов"
   ]
  },
  {
   "cell_type": "code",
   "execution_count": 26,
   "metadata": {},
   "outputs": [
    {
     "name": "stdout",
     "output_type": "stream",
     "text": [
      "[26785. 53904.]\n"
     ]
    }
   ],
   "source": [
    "print(np.percentile(orders['revenue'], [95, 99])) "
   ]
  },
  {
   "cell_type": "markdown",
   "metadata": {},
   "source": [
    "**Вывод:**\n",
    "\n",
    "Не более 5% заказов имеют стоимость более 26785, выберем эту сумму за верхнюю границу стоимости заказа, все что выше - будем считать аномалией."
   ]
  },
  {
   "cell_type": "markdown",
   "metadata": {},
   "source": [
    "###  Статистическая значимость различий в среднем количестве заказов на посетителя между группами по «сырым» данным"
   ]
  },
  {
   "cell_type": "markdown",
   "metadata": {},
   "source": [
    "**Сформулируем гипотезы.** \n",
    "\n",
    "**Нулевая:** различий в среднем количестве заказов между группами нет. \n",
    "\n",
    "**Альтернативная:** различия в среднем количестве заказов между группами есть."
   ]
  },
  {
   "cell_type": "markdown",
   "metadata": {},
   "source": [
    "Начнем с подготовки данных. Создадим таблицу data, где:\n",
    "\n",
    "* **date** — дата;\n",
    "* **ordersPerDateA** — количество заказов в выбранную дату в группе A;\n",
    "* **revenuePerDateA** — суммарная выручка в выбранную дату в группе A;\n",
    "* **ordersPerDateB** — количество заказов в выбранную дату в группе B;\n",
    "* **revenuePerDateB** — суммарная выручка в выбранную дату в группе B;\n",
    "* **ordersCummulativeA** — суммарное число заказов до выбранной даты включительно в группе A;\n",
    "* **revenueCummulativeA** — суммарная выручка до выбранной даты включительно в группе A;\n",
    "* **ordersCummulativeB** — суммарное количество заказов до выбранной даты включительно в группе B;\n",
    "* **revenueCummulativeB** — суммарная выручка до выбранной даты включительно в группе B;\n",
    "* **visitorsPerDateA** — количество пользователей в выбранную дату в группе A;\n",
    "* **visitorsPerDateB** — количество пользователей в выбранную дату в группе B;\n",
    "* **visitorsCummulativeA** — количество пользователей до выбранной даты включительно в группе A;\n",
    "* **visitorsCummulativeB** — количество пользователей до выбранной даты включительно в группе B."
   ]
  },
  {
   "cell_type": "markdown",
   "metadata": {},
   "source": [
    "Ранее мы расчиатли кумулятивные данные, разобьем их для удобства на две таблицы: для группы А и для группы В и оставим только необходимые столбцы."
   ]
  },
  {
   "cell_type": "code",
   "execution_count": 27,
   "metadata": {},
   "outputs": [],
   "source": [
    "cumulative_data_a = cumulative_data.query('group == \"A\"')\n",
    "cumulative_data_a = cumulative_data_a.drop(['group', 'buyers', 'conversion'], axis=1)\n",
    "cumulative_data_a.columns = ['date', 'transactions_cummulative_a', 'revenue_cummulative_a', 'visitors_cummulative_a']\n",
    "\n",
    "cumulative_data_b = cumulative_data.query('group == \"B\"')\n",
    "cumulative_data_b = cumulative_data_b.drop(['group', 'buyers', 'conversion'], axis=1)\n",
    "cumulative_data_b.columns = ['date', 'transactions_cummulative_b', 'revenue_cummulative_b', 'visitors_cummulative_b']"
   ]
  },
  {
   "cell_type": "code",
   "execution_count": 28,
   "metadata": {
    "scrolled": false
   },
   "outputs": [
    {
     "data": {
      "text/html": [
       "<div>\n",
       "<style scoped>\n",
       "    .dataframe tbody tr th:only-of-type {\n",
       "        vertical-align: middle;\n",
       "    }\n",
       "\n",
       "    .dataframe tbody tr th {\n",
       "        vertical-align: top;\n",
       "    }\n",
       "\n",
       "    .dataframe thead th {\n",
       "        text-align: right;\n",
       "    }\n",
       "</style>\n",
       "<table border=\"1\" class=\"dataframe\">\n",
       "  <thead>\n",
       "    <tr style=\"text-align: right;\">\n",
       "      <th></th>\n",
       "      <th>date</th>\n",
       "      <th>transactions_per_date_a</th>\n",
       "      <th>revenue_per_date_a</th>\n",
       "      <th>transactions_per_date_b</th>\n",
       "      <th>revenue_per_date_b</th>\n",
       "      <th>transactions_cummulative_a</th>\n",
       "      <th>revenue_cummulative_a</th>\n",
       "      <th>visitors_cummulative_a</th>\n",
       "      <th>transactions_cummulative_b</th>\n",
       "      <th>revenue_cummulative_b</th>\n",
       "      <th>visitors_cummulative_b</th>\n",
       "      <th>visitors_per_date_a</th>\n",
       "      <th>visitors_per_date_b</th>\n",
       "    </tr>\n",
       "  </thead>\n",
       "  <tbody>\n",
       "    <tr>\n",
       "      <th>0</th>\n",
       "      <td>2019-08-01</td>\n",
       "      <td>23</td>\n",
       "      <td>142779</td>\n",
       "      <td>17</td>\n",
       "      <td>59758</td>\n",
       "      <td>23</td>\n",
       "      <td>142779</td>\n",
       "      <td>719</td>\n",
       "      <td>17</td>\n",
       "      <td>59758</td>\n",
       "      <td>713</td>\n",
       "      <td>719</td>\n",
       "      <td>713</td>\n",
       "    </tr>\n",
       "    <tr>\n",
       "      <th>1</th>\n",
       "      <td>2019-08-02</td>\n",
       "      <td>19</td>\n",
       "      <td>91602</td>\n",
       "      <td>23</td>\n",
       "      <td>162043</td>\n",
       "      <td>42</td>\n",
       "      <td>234381</td>\n",
       "      <td>1338</td>\n",
       "      <td>40</td>\n",
       "      <td>221801</td>\n",
       "      <td>1294</td>\n",
       "      <td>619</td>\n",
       "      <td>581</td>\n",
       "    </tr>\n",
       "    <tr>\n",
       "      <th>2</th>\n",
       "      <td>2019-08-03</td>\n",
       "      <td>24</td>\n",
       "      <td>112473</td>\n",
       "      <td>14</td>\n",
       "      <td>67049</td>\n",
       "      <td>66</td>\n",
       "      <td>346854</td>\n",
       "      <td>1845</td>\n",
       "      <td>54</td>\n",
       "      <td>288850</td>\n",
       "      <td>1803</td>\n",
       "      <td>507</td>\n",
       "      <td>509</td>\n",
       "    </tr>\n",
       "    <tr>\n",
       "      <th>3</th>\n",
       "      <td>2019-08-04</td>\n",
       "      <td>11</td>\n",
       "      <td>41176</td>\n",
       "      <td>14</td>\n",
       "      <td>96890</td>\n",
       "      <td>77</td>\n",
       "      <td>388030</td>\n",
       "      <td>2562</td>\n",
       "      <td>68</td>\n",
       "      <td>385740</td>\n",
       "      <td>2573</td>\n",
       "      <td>717</td>\n",
       "      <td>770</td>\n",
       "    </tr>\n",
       "    <tr>\n",
       "      <th>4</th>\n",
       "      <td>2019-08-05</td>\n",
       "      <td>22</td>\n",
       "      <td>86383</td>\n",
       "      <td>21</td>\n",
       "      <td>89908</td>\n",
       "      <td>99</td>\n",
       "      <td>474413</td>\n",
       "      <td>3318</td>\n",
       "      <td>89</td>\n",
       "      <td>475648</td>\n",
       "      <td>3280</td>\n",
       "      <td>756</td>\n",
       "      <td>707</td>\n",
       "    </tr>\n",
       "  </tbody>\n",
       "</table>\n",
       "</div>"
      ],
      "text/plain": [
       "        date  transactions_per_date_a  revenue_per_date_a  \\\n",
       "0 2019-08-01  23                       142779               \n",
       "1 2019-08-02  19                       91602                \n",
       "2 2019-08-03  24                       112473               \n",
       "3 2019-08-04  11                       41176                \n",
       "4 2019-08-05  22                       86383                \n",
       "\n",
       "   transactions_per_date_b  revenue_per_date_b  transactions_cummulative_a  \\\n",
       "0  17                       59758               23                           \n",
       "1  23                       162043              42                           \n",
       "2  14                       67049               66                           \n",
       "3  14                       96890               77                           \n",
       "4  21                       89908               99                           \n",
       "\n",
       "   revenue_cummulative_a  visitors_cummulative_a  transactions_cummulative_b  \\\n",
       "0  142779                 719                     17                           \n",
       "1  234381                 1338                    40                           \n",
       "2  346854                 1845                    54                           \n",
       "3  388030                 2562                    68                           \n",
       "4  474413                 3318                    89                           \n",
       "\n",
       "   revenue_cummulative_b  visitors_cummulative_b  visitors_per_date_a  \\\n",
       "0  59758                  713                     719                   \n",
       "1  221801                 1294                    619                   \n",
       "2  288850                 1803                    507                   \n",
       "3  385740                 2573                    717                   \n",
       "4  475648                 3280                    756                   \n",
       "\n",
       "   visitors_per_date_b  \n",
       "0  713                  \n",
       "1  581                  \n",
       "2  509                  \n",
       "3  770                  \n",
       "4  707                  "
      ]
     },
     "metadata": {},
     "output_type": "display_data"
    }
   ],
   "source": [
    "visitors_a_daily = visitors[visitors['group'] == 'A'][['date', 'visitors']]\n",
    "visitors_a_daily.columns = ['date', 'visitors_per_date_a']\n",
    "\n",
    "visitors_b_daily = visitors[visitors['group'] == 'B'][['date', 'visitors']]\n",
    "visitors_b_daily.columns = ['date', 'visitors_per_date_b']\n",
    "\n",
    "transactions_a_daily = (\n",
    "    orders[orders['group'] == 'A'][['date', 'transaction_id', 'visitor_id', 'revenue']]\n",
    "    .groupby('date', as_index=False)\n",
    "    .agg({'transaction_id': pd.Series.nunique, 'revenue': 'sum'})\n",
    ")\n",
    "transactions_a_daily.columns = ['date', 'transactions_per_date_a', 'revenue_per_date_a']\n",
    "\n",
    "\n",
    "transactions_b_daily = (\n",
    "    orders[orders['group'] == 'B'][['date', 'transaction_id', 'visitor_id', 'revenue']]\n",
    "    .groupby('date', as_index=False)\n",
    "    .agg({'transaction_id': pd.Series.nunique, 'revenue': 'sum'})\n",
    ")\n",
    "transactions_b_daily.columns = ['date', 'transactions_per_date_b', 'revenue_per_date_b']\n",
    "\n",
    "data = (\n",
    "    transactions_a_daily.merge(\n",
    "        transactions_b_daily, left_on='date', right_on='date', how='left'\n",
    "    )\n",
    "    .merge(cumulative_data_a, left_on='date', right_on='date', how='left')\n",
    "    .merge(cumulative_data_b, left_on='date', right_on='date', how='left')\n",
    "    .merge(visitors_a_daily, left_on='date', right_on='date', how='left')\n",
    "    .merge(visitors_b_daily, left_on='date', right_on='date', how='left')\n",
    ")\n",
    "\n",
    "display(data.head(5))"
   ]
  },
  {
   "cell_type": "markdown",
   "metadata": {},
   "source": [
    "Выберем уровень статистической значимости, равный 0,05.\n",
    "\n",
    "Для проверки гипотез используем критерий Манна-Уитни."
   ]
  },
  {
   "cell_type": "code",
   "execution_count": 29,
   "metadata": {
    "scrolled": true
   },
   "outputs": [
    {
     "name": "stdout",
     "output_type": "stream",
     "text": [
      "p-value: 0.011\n",
      "Относительный прирост: 0.160\n"
     ]
    }
   ],
   "source": [
    "transactions_by_visitor_a = (\n",
    "    orders[orders['group'] == 'A']\n",
    "    .groupby('visitor_id', as_index=False)\n",
    "    .agg({'transaction_id': pd.Series.nunique})\n",
    ")\n",
    "transactions_by_visitor_a.columns = ['visitor_id', 'transactions']\n",
    "\n",
    "transactions_by_visitor_b = (\n",
    "    orders[orders['group'] == 'B']\n",
    "    .groupby('visitor_id', as_index=False)\n",
    "    .agg({'transaction_id': pd.Series.nunique})\n",
    ")\n",
    "transactions_by_visitor_b.columns = ['visitor_id', 'transactions']\n",
    "\n",
    "sample_a = pd.concat(\n",
    "    [\n",
    "        transactions_by_visitor_a['transactions'],\n",
    "        pd.Series(\n",
    "            0,\n",
    "            index=np.arange(\n",
    "                data['visitors_per_date_a'].sum() - len(transactions_by_visitor_a['transactions'])\n",
    "            ),\n",
    "            name='transactions',\n",
    "        ),\n",
    "    ],\n",
    "    axis=0,\n",
    ")\n",
    "\n",
    "sample_b = pd.concat(\n",
    "    [\n",
    "        transactions_by_visitor_b['transactions'],\n",
    "        pd.Series(\n",
    "            0,\n",
    "            index=np.arange(\n",
    "                data['visitors_per_date_b'].sum() - len(transactions_by_visitor_b['transactions'])\n",
    "            ),\n",
    "            name='transactions',\n",
    "        ),\n",
    "    ],\n",
    "    axis=0,\n",
    ")\n",
    "\n",
    "print(\"p-value: {0:.3f}\".format(stats.mannwhitneyu(sample_a, sample_b)[1]))\n",
    "\n",
    "print(\"Относительный прирост: {0:.3f}\".format(sample_b.mean() / sample_a.mean() - 1))"
   ]
  },
  {
   "cell_type": "markdown",
   "metadata": {},
   "source": [
    "**Вывод:**\n",
    "\n",
    "По «сырым» данным наблюдаем различие в среднем числе заказов групп A и B.\n",
    "\n",
    "Первое число — p-value = 0.011 меньше выбранного уровня статистической значимости (0,05). Значит, нулевую гипотезу о том, что статистически значимых различий в среднем числе заказов между группами нет, можно отвергнуть. Относительный выигрыш группы B равен 16%."
   ]
  },
  {
   "cell_type": "markdown",
   "metadata": {},
   "source": [
    "###  Статистическая значимость различий в среднем чеке заказа между группами по «сырым» данным"
   ]
  },
  {
   "cell_type": "markdown",
   "metadata": {},
   "source": [
    "**Сформулируем гипотезы.** \n",
    "\n",
    "**Нулевая:** различий в среднем чеке между группами нет. \n",
    "\n",
    "**Альтернативная:** различия в среднем чеке между группами есть."
   ]
  },
  {
   "cell_type": "code",
   "execution_count": 30,
   "metadata": {},
   "outputs": [
    {
     "name": "stdout",
     "output_type": "stream",
     "text": [
      "p-value: 0.829\n",
      "Относительный прирост: 0.287\n"
     ]
    }
   ],
   "source": [
    "print('p-value: {0:.3f}'.format(stats.mannwhitneyu(orders[orders['group']=='A']['revenue'], orders[orders['group']=='B']['revenue'])[1]))\n",
    "print('Относительный прирост: {0:.3f}'.format(orders[orders['group']=='B']['revenue'].mean()/orders[orders['group']=='A']['revenue'].mean()-1))"
   ]
  },
  {
   "cell_type": "markdown",
   "metadata": {},
   "source": [
    "**Вывод:**\n",
    "\n",
    "По «сырым» данным различие в среднем чеке заказов групп A и B не наблюдается.\n",
    "\n",
    "Первое число — p-value = 0.829 значительно больше 0.05. Значит нет оснований отвергнуть нулевую гипотезу о том, что статистически значимых различий в среднем чеке заказа между группами нет. \n",
    "При этом относительный выигрыш группы B равен 28.7%."
   ]
  },
  {
   "cell_type": "markdown",
   "metadata": {},
   "source": [
    "###  Статистическая значимость различий в среднем количестве заказов на посетителя между группами по «очищенным» данным"
   ]
  },
  {
   "cell_type": "markdown",
   "metadata": {},
   "source": [
    "Примем за аномальных пользователей тех, кто совершил от 2 заказов или совершил заказ дороже 26785 (на основе выводов, сделанных при подсчете перцентелей). Объединим их в таблице abnormal_visitors. Посчитаем количество аномальных пользователей."
   ]
  },
  {
   "cell_type": "code",
   "execution_count": 31,
   "metadata": {},
   "outputs": [
    {
     "name": "stdout",
     "output_type": "stream",
     "text": [
      "487    113298937\n",
      "937    148427295\n",
      "792    204675465\n",
      "33     249864742\n",
      "586    358944393\n",
      "Name: visitor_id, dtype: int64\n",
      "Количество аномальных пользователей: 86\n"
     ]
    }
   ],
   "source": [
    "visitors_with_many_orders = pd.concat(\n",
    "    [\n",
    "        transactions_by_visitor_a[transactions_by_visitor_a['transactions'] > int(np.percentile(orders_by_visitors['orders'], [95]))]['visitor_id'],\n",
    "        transactions_by_visitor_b[transactions_by_visitor_b['transactions'] > int(np.percentile(orders_by_visitors['orders'], [95]))]['visitor_id'],\n",
    "    ],\n",
    "    axis=0,\n",
    ")\n",
    "visitors_with_expensive_orders = orders[orders['revenue'] > int(np.percentile(orders['revenue'], [95]))]['visitor_id']\n",
    "abnormal_visitors = (\n",
    "    pd.concat([visitors_with_many_orders, visitors_with_expensive_orders], axis=0)\n",
    "    .drop_duplicates()\n",
    "    .sort_values()\n",
    ")\n",
    "print(abnormal_visitors.head(5))\n",
    "print('Количество аномальных пользователей:', abnormal_visitors.shape[0])"
   ]
  },
  {
   "cell_type": "markdown",
   "metadata": {},
   "source": [
    "Посчитаем статистическую значимость различий в среднем количестве заказов между группами теста по очищенным данным. "
   ]
  },
  {
   "cell_type": "code",
   "execution_count": 32,
   "metadata": {},
   "outputs": [
    {
     "name": "stdout",
     "output_type": "stream",
     "text": [
      "p-value: 0.016\n",
      "Относительный прирост: 0.174\n"
     ]
    }
   ],
   "source": [
    "sample_a_filtered = pd.concat(\n",
    "    [\n",
    "        transactions_by_visitor_a[\n",
    "            np.logical_not(transactions_by_visitor_a['visitor_id'].isin(abnormal_visitors))\n",
    "        ]['transactions'],\n",
    "        pd.Series(\n",
    "            0,\n",
    "            index=np.arange(\n",
    "                data['visitors_per_date_a'].sum() - len(transactions_by_visitor_a['transactions'])\n",
    "            ),\n",
    "            name='transactions',\n",
    "        ),\n",
    "    ],\n",
    "    axis=0,\n",
    ")\n",
    "\n",
    "sample_b_filtered = pd.concat(\n",
    "    [\n",
    "        transactions_by_visitor_b[\n",
    "            np.logical_not(transactions_by_visitor_b['visitor_id'].isin(abnormal_visitors))\n",
    "        ]['transactions'],\n",
    "        pd.Series(\n",
    "            0,\n",
    "            index=np.arange(\n",
    "                data['visitors_per_date_b'].sum() - len(transactions_by_visitor_b['transactions'])\n",
    "            ),\n",
    "            name='transactions',\n",
    "        ),\n",
    "    ],\n",
    "    axis=0,\n",
    ")\n",
    "\n",
    "print('p-value: {0:.3f}'.format(stats.mannwhitneyu(sample_a_filtered, sample_b_filtered)[1]))\n",
    "print('Относительный прирост: {0:.3f}'.format(sample_b_filtered.mean()/sample_a_filtered.mean()-1))"
   ]
  },
  {
   "cell_type": "markdown",
   "metadata": {},
   "source": [
    "**Вывод:**\n",
    "\n",
    "По «очищенным» (так же как и по «сырым») данным наблюдаем различие в среднем числе заказов групп A и B.\n",
    "\n",
    "Первое число — p-value = 0.016 меньше 0.05. Значит, нулевую гипотезу о том, что статистически значимых различий в среднем числе заказов между группами нет отвергаем. Относительный выигрыш группы B равен 17.4%."
   ]
  },
  {
   "cell_type": "markdown",
   "metadata": {},
   "source": [
    "###  Статистическая значимость различий в среднем чеке заказа между группами по «очищенным» данным"
   ]
  },
  {
   "cell_type": "code",
   "execution_count": 33,
   "metadata": {},
   "outputs": [
    {
     "name": "stdout",
     "output_type": "stream",
     "text": [
      "p-value: 0.727\n",
      "Относительный прирост: -0.034\n"
     ]
    }
   ],
   "source": [
    "print(\n",
    "    'p-value: {0:.3f}'.format(\n",
    "        stats.mannwhitneyu(\n",
    "            orders[\n",
    "                np.logical_and(\n",
    "                    orders['group'] == 'A',\n",
    "                    np.logical_not(orders['visitor_id'].isin(abnormal_visitors)),\n",
    "                )\n",
    "            ]['revenue'],\n",
    "            orders[\n",
    "                np.logical_and(\n",
    "                    orders['group'] == 'B',\n",
    "                    np.logical_not(orders['visitor_id'].isin(abnormal_visitors)),\n",
    "                )\n",
    "            ]['revenue'],\n",
    "        )[1]\n",
    "    )\n",
    ")\n",
    "\n",
    "print(\n",
    "    \"Относительный прирост: {0:.3f}\".format(\n",
    "        orders[\n",
    "            np.logical_and(\n",
    "                orders['group'] == 'B',\n",
    "                np.logical_not(orders['visitor_id'].isin(abnormal_visitors)),\n",
    "            )\n",
    "        ]['revenue'].mean()\n",
    "        / orders[\n",
    "            np.logical_and(\n",
    "                orders['group'] == 'A',\n",
    "                np.logical_not(orders['visitor_id'].isin(abnormal_visitors)),\n",
    "            )\n",
    "        ]['revenue'].mean()\n",
    "        - 1\n",
    "    )\n",
    ")"
   ]
  },
  {
   "cell_type": "markdown",
   "metadata": {},
   "source": [
    "**Вывод:**\n",
    "\n",
    "По «очищенным» (так же как и по «сырым») данным различие в среднем чеке заказов групп A и B не наблюдается.\n",
    "\n",
    "Первое число — p-value = 0.727 значительно больше 0.05. Значит нет оснований отвергнуть нулевую гипотезу о том, что статистически значимых различий в среднем чеке заказа между группами нет. \n",
    "Группа B показала себя хуже группы А на 3.4%."
   ]
  },
  {
   "cell_type": "markdown",
   "metadata": {},
   "source": [
    "##  Решение по результатам теста"
   ]
  },
  {
   "cell_type": "markdown",
   "metadata": {},
   "source": [
    "Остановить тест, зафиксировать победу группы B. \n",
    "\n",
    "При том, что средний чек оказался незначительно ниже чем в группе А (всего на 3.4%), количество заказов на посетителя выросло на 17.4%. Гипотезы были подготовлены с целью увеличения выручки - рост количества заказов на покупателя при неизменном среднем чеке соответствует достижению этой цели."
   ]
  },
  {
   "cell_type": "markdown",
   "metadata": {},
   "source": [
    "##  Общие выводы по результатам теста"
   ]
  },
  {
   "cell_type": "markdown",
   "metadata": {},
   "source": [
    "* Выявлено статистически значимое различие по среднему количеству заказов между группами, **количество заказов в группе В выше на 17.4%**;\n",
    "* Нет статистически значимого различия по среднему чеку между группами ни по «сырым», ни по данным после фильтрации аномалий;\n",
    "* График различия среднего количества заказов между группами сообщает, что результаты группы B стабильно выше результатов группы A начиная с 7-го дня теста;\n",
    "* В течение месяца основная масса пользователей делает не более одного заказа. Сумма заказа не превышает ~27000 в 95% случаев;\n",
    "\n",
    "Исходя из обнаруженных фактов, **тест следует остановить и признать его успешным.**\n",
    "\n",
    "При том, что **средний чек** оказался **незначительно ниже** чем в группе А (всего **на 3.4%**), **количество заказов** на посетителя **выросло на 17.4%**.\n",
    "\n",
    "Гипотезы были подготовлены **с целью увеличения выручки** - **рост количества заказов** на покупателя при неизменном среднем чеке **соответствует достижению этой цели**."
   ]
  }
 ],
 "metadata": {
  "ExecuteTimeLog": [
   {
    "duration": 467,
    "start_time": "2024-03-31T12:08:35.923Z"
   },
   {
    "duration": 29,
    "start_time": "2024-03-31T12:08:45.142Z"
   },
   {
    "duration": 92,
    "start_time": "2024-03-31T12:09:06.920Z"
   },
   {
    "duration": 33,
    "start_time": "2024-03-31T12:09:15.683Z"
   },
   {
    "duration": 3,
    "start_time": "2024-03-31T12:11:12.773Z"
   },
   {
    "duration": 32,
    "start_time": "2024-03-31T12:11:37.744Z"
   },
   {
    "duration": 58,
    "start_time": "2024-03-31T12:12:22.824Z"
   },
   {
    "duration": 52,
    "start_time": "2024-03-31T12:12:33.986Z"
   },
   {
    "duration": 34,
    "start_time": "2024-03-31T12:12:47.502Z"
   },
   {
    "duration": 37,
    "start_time": "2024-03-31T12:12:52.801Z"
   },
   {
    "duration": 40,
    "start_time": "2024-03-31T12:15:19.154Z"
   },
   {
    "duration": 11,
    "start_time": "2024-03-31T12:28:13.441Z"
   },
   {
    "duration": 3,
    "start_time": "2024-03-31T12:29:21.038Z"
   },
   {
    "duration": 40,
    "start_time": "2024-03-31T12:29:25.151Z"
   },
   {
    "duration": 935,
    "start_time": "2024-03-31T12:31:31.782Z"
   },
   {
    "duration": 3,
    "start_time": "2024-03-31T12:32:01.568Z"
   },
   {
    "duration": 961,
    "start_time": "2024-03-31T12:32:03.319Z"
   },
   {
    "duration": 5,
    "start_time": "2024-03-31T12:32:16.972Z"
   },
   {
    "duration": 5,
    "start_time": "2024-03-31T12:32:24.272Z"
   },
   {
    "duration": 6,
    "start_time": "2024-03-31T12:32:37.332Z"
   },
   {
    "duration": 6,
    "start_time": "2024-03-31T12:33:08.990Z"
   },
   {
    "duration": 10,
    "start_time": "2024-03-31T12:33:18.172Z"
   },
   {
    "duration": 9,
    "start_time": "2024-03-31T12:33:35.320Z"
   },
   {
    "duration": 10,
    "start_time": "2024-03-31T12:33:54.502Z"
   },
   {
    "duration": 13,
    "start_time": "2024-03-31T12:34:30.610Z"
   },
   {
    "duration": 13,
    "start_time": "2024-03-31T12:35:05.190Z"
   },
   {
    "duration": 11,
    "start_time": "2024-03-31T12:35:18.193Z"
   },
   {
    "duration": 14,
    "start_time": "2024-03-31T12:35:52.079Z"
   },
   {
    "duration": 13,
    "start_time": "2024-03-31T12:36:05.360Z"
   },
   {
    "duration": 12,
    "start_time": "2024-03-31T12:36:20.470Z"
   },
   {
    "duration": 116,
    "start_time": "2024-03-31T13:18:23.925Z"
   },
   {
    "duration": 90,
    "start_time": "2024-03-31T13:18:25.404Z"
   },
   {
    "duration": 37,
    "start_time": "2024-03-31T13:18:44.102Z"
   },
   {
    "duration": 58,
    "start_time": "2024-03-31T13:18:46.334Z"
   },
   {
    "duration": 2,
    "start_time": "2024-03-31T13:21:36.608Z"
   },
   {
    "duration": 404,
    "start_time": "2024-03-31T13:25:58.837Z"
   },
   {
    "duration": 19,
    "start_time": "2024-03-31T13:26:09.840Z"
   },
   {
    "duration": 3,
    "start_time": "2024-03-31T13:33:28.209Z"
   },
   {
    "duration": 54,
    "start_time": "2024-03-31T13:35:23.966Z"
   },
   {
    "duration": 13,
    "start_time": "2024-03-31T13:36:26.370Z"
   },
   {
    "duration": 231,
    "start_time": "2024-03-31T13:36:50.820Z"
   },
   {
    "duration": 61,
    "start_time": "2024-03-31T13:37:00.020Z"
   },
   {
    "duration": 20,
    "start_time": "2024-03-31T13:37:00.717Z"
   },
   {
    "duration": 253,
    "start_time": "2024-03-31T13:37:39.887Z"
   },
   {
    "duration": 38,
    "start_time": "2024-03-31T13:37:42.219Z"
   },
   {
    "duration": 249,
    "start_time": "2024-03-31T13:37:43.174Z"
   },
   {
    "duration": 11,
    "start_time": "2024-03-31T13:38:11.716Z"
   },
   {
    "duration": 10,
    "start_time": "2024-03-31T13:38:43.172Z"
   },
   {
    "duration": 9,
    "start_time": "2024-03-31T13:40:16.799Z"
   },
   {
    "duration": 7,
    "start_time": "2024-03-31T13:40:21.323Z"
   },
   {
    "duration": 7,
    "start_time": "2024-03-31T13:40:26.890Z"
   },
   {
    "duration": 5,
    "start_time": "2024-03-31T13:41:37.312Z"
   },
   {
    "duration": 624,
    "start_time": "2024-03-31T13:43:47.683Z"
   },
   {
    "duration": 41,
    "start_time": "2024-03-31T13:43:48.309Z"
   },
   {
    "duration": 3,
    "start_time": "2024-03-31T13:43:48.352Z"
   },
   {
    "duration": 12,
    "start_time": "2024-03-31T13:43:48.356Z"
   },
   {
    "duration": 12,
    "start_time": "2024-03-31T13:43:48.371Z"
   },
   {
    "duration": 51,
    "start_time": "2024-03-31T13:43:48.384Z"
   },
   {
    "duration": 7,
    "start_time": "2024-03-31T13:43:48.437Z"
   },
   {
    "duration": 21,
    "start_time": "2024-03-31T13:43:48.445Z"
   },
   {
    "duration": 35,
    "start_time": "2024-03-31T13:43:48.468Z"
   },
   {
    "duration": 6,
    "start_time": "2024-03-31T13:43:48.504Z"
   },
   {
    "duration": 18,
    "start_time": "2024-03-31T13:43:48.512Z"
   },
   {
    "duration": 6,
    "start_time": "2024-03-31T13:44:46.367Z"
   },
   {
    "duration": 10,
    "start_time": "2024-03-31T13:45:02.903Z"
   },
   {
    "duration": 84,
    "start_time": "2024-03-31T13:57:09.501Z"
   },
   {
    "duration": 3,
    "start_time": "2024-03-31T14:00:45.676Z"
   },
   {
    "duration": 59,
    "start_time": "2024-03-31T14:00:50.096Z"
   },
   {
    "duration": 6,
    "start_time": "2024-03-31T14:00:50.739Z"
   },
   {
    "duration": 3,
    "start_time": "2024-03-31T14:00:51.087Z"
   },
   {
    "duration": 20,
    "start_time": "2024-03-31T14:00:52.419Z"
   },
   {
    "duration": 22,
    "start_time": "2024-03-31T14:03:05.341Z"
   },
   {
    "duration": 157,
    "start_time": "2024-03-31T14:03:35.248Z"
   },
   {
    "duration": 175,
    "start_time": "2024-03-31T14:20:22.429Z"
   },
   {
    "duration": 11,
    "start_time": "2024-03-31T14:21:57.761Z"
   },
   {
    "duration": 5,
    "start_time": "2024-03-31T14:22:58.500Z"
   },
   {
    "duration": 10,
    "start_time": "2024-03-31T14:22:59.977Z"
   },
   {
    "duration": 172,
    "start_time": "2024-03-31T14:23:01.090Z"
   },
   {
    "duration": 10,
    "start_time": "2024-03-31T14:23:07.808Z"
   },
   {
    "duration": 118,
    "start_time": "2024-03-31T14:25:47.477Z"
   },
   {
    "duration": 127,
    "start_time": "2024-03-31T14:26:03.796Z"
   },
   {
    "duration": 6,
    "start_time": "2024-03-31T14:26:35.008Z"
   },
   {
    "duration": 31,
    "start_time": "2024-03-31T14:30:19.697Z"
   },
   {
    "duration": 296,
    "start_time": "2024-03-31T14:31:27.862Z"
   },
   {
    "duration": 281,
    "start_time": "2024-03-31T15:25:11.072Z"
   },
   {
    "duration": 12,
    "start_time": "2024-03-31T15:25:39.939Z"
   },
   {
    "duration": 243,
    "start_time": "2024-03-31T15:25:58.094Z"
   },
   {
    "duration": 178,
    "start_time": "2024-03-31T15:26:38.005Z"
   },
   {
    "duration": 227,
    "start_time": "2024-03-31T15:27:46.538Z"
   },
   {
    "duration": 182,
    "start_time": "2024-03-31T15:28:51.430Z"
   },
   {
    "duration": 183,
    "start_time": "2024-03-31T15:29:05.303Z"
   },
   {
    "duration": 176,
    "start_time": "2024-03-31T15:30:59.217Z"
   },
   {
    "duration": 173,
    "start_time": "2024-03-31T15:31:09.640Z"
   },
   {
    "duration": 183,
    "start_time": "2024-03-31T15:31:22.403Z"
   },
   {
    "duration": 204,
    "start_time": "2024-03-31T15:32:11.399Z"
   },
   {
    "duration": 3078,
    "start_time": "2024-03-31T15:32:54.998Z"
   },
   {
    "duration": 3659,
    "start_time": "2024-03-31T15:33:19.343Z"
   },
   {
    "duration": 175,
    "start_time": "2024-03-31T15:33:33.616Z"
   },
   {
    "duration": 176,
    "start_time": "2024-03-31T15:33:39.737Z"
   },
   {
    "duration": 3733,
    "start_time": "2024-03-31T15:34:58.382Z"
   },
   {
    "duration": 213,
    "start_time": "2024-03-31T15:35:11.404Z"
   },
   {
    "duration": 332,
    "start_time": "2024-03-31T15:35:15.974Z"
   },
   {
    "duration": 235,
    "start_time": "2024-03-31T15:35:24.504Z"
   },
   {
    "duration": 190,
    "start_time": "2024-03-31T15:35:36.195Z"
   },
   {
    "duration": 197,
    "start_time": "2024-03-31T15:35:50.574Z"
   },
   {
    "duration": 343,
    "start_time": "2024-03-31T15:36:22.722Z"
   },
   {
    "duration": 211,
    "start_time": "2024-03-31T15:36:33.024Z"
   },
   {
    "duration": 628,
    "start_time": "2024-03-31T15:51:06.397Z"
   },
   {
    "duration": 45,
    "start_time": "2024-03-31T15:51:07.027Z"
   },
   {
    "duration": 4,
    "start_time": "2024-03-31T15:51:07.074Z"
   },
   {
    "duration": 26,
    "start_time": "2024-03-31T15:51:07.080Z"
   },
   {
    "duration": 14,
    "start_time": "2024-03-31T15:51:07.108Z"
   },
   {
    "duration": 78,
    "start_time": "2024-03-31T15:51:07.124Z"
   },
   {
    "duration": 6,
    "start_time": "2024-03-31T15:51:07.204Z"
   },
   {
    "duration": 30,
    "start_time": "2024-03-31T15:51:07.212Z"
   },
   {
    "duration": 23,
    "start_time": "2024-03-31T15:51:07.244Z"
   },
   {
    "duration": 28,
    "start_time": "2024-03-31T15:51:07.270Z"
   },
   {
    "duration": 7,
    "start_time": "2024-03-31T15:51:07.300Z"
   },
   {
    "duration": 10,
    "start_time": "2024-03-31T15:51:07.308Z"
   },
   {
    "duration": 24,
    "start_time": "2024-03-31T15:51:07.319Z"
   },
   {
    "duration": 470,
    "start_time": "2024-03-31T15:51:07.345Z"
   },
   {
    "duration": 1,
    "start_time": "2024-03-31T15:51:07.816Z"
   },
   {
    "duration": 298,
    "start_time": "2024-03-31T15:51:26.802Z"
   },
   {
    "duration": 274,
    "start_time": "2024-03-31T15:51:37.096Z"
   },
   {
    "duration": 8,
    "start_time": "2024-03-31T15:51:39.122Z"
   },
   {
    "duration": 287,
    "start_time": "2024-03-31T15:51:54.206Z"
   },
   {
    "duration": 650,
    "start_time": "2024-03-31T15:51:59.960Z"
   },
   {
    "duration": 44,
    "start_time": "2024-03-31T15:52:00.612Z"
   },
   {
    "duration": 28,
    "start_time": "2024-03-31T15:52:00.658Z"
   },
   {
    "duration": 60,
    "start_time": "2024-03-31T15:52:00.688Z"
   },
   {
    "duration": 120,
    "start_time": "2024-03-31T15:52:00.750Z"
   },
   {
    "duration": 198,
    "start_time": "2024-03-31T15:52:00.871Z"
   },
   {
    "duration": 20,
    "start_time": "2024-03-31T15:52:01.070Z"
   },
   {
    "duration": 71,
    "start_time": "2024-03-31T15:52:01.091Z"
   },
   {
    "duration": 159,
    "start_time": "2024-03-31T15:52:01.164Z"
   },
   {
    "duration": 93,
    "start_time": "2024-03-31T15:52:01.325Z"
   },
   {
    "duration": 6,
    "start_time": "2024-03-31T15:52:01.420Z"
   },
   {
    "duration": 36,
    "start_time": "2024-03-31T15:52:01.428Z"
   },
   {
    "duration": 42,
    "start_time": "2024-03-31T15:52:01.466Z"
   },
   {
    "duration": 348,
    "start_time": "2024-03-31T15:52:01.510Z"
   },
   {
    "duration": 315,
    "start_time": "2024-03-31T15:52:01.860Z"
   },
   {
    "duration": 168,
    "start_time": "2024-03-31T15:57:02.477Z"
   },
   {
    "duration": 209,
    "start_time": "2024-03-31T15:59:17.015Z"
   },
   {
    "duration": 98,
    "start_time": "2024-03-31T16:13:01.020Z"
   },
   {
    "duration": 415,
    "start_time": "2024-03-31T16:13:12.187Z"
   },
   {
    "duration": 17,
    "start_time": "2024-03-31T16:14:18.496Z"
   },
   {
    "duration": 23,
    "start_time": "2024-03-31T16:14:43.969Z"
   },
   {
    "duration": 305,
    "start_time": "2024-03-31T16:15:04.927Z"
   },
   {
    "duration": 277,
    "start_time": "2024-03-31T16:15:42.066Z"
   },
   {
    "duration": 308,
    "start_time": "2024-03-31T16:19:14.526Z"
   },
   {
    "duration": 303,
    "start_time": "2024-03-31T16:20:36.844Z"
   },
   {
    "duration": 397,
    "start_time": "2024-03-31T16:21:08.845Z"
   },
   {
    "duration": 277,
    "start_time": "2024-03-31T16:21:15.795Z"
   },
   {
    "duration": 704,
    "start_time": "2024-03-31T16:35:21.849Z"
   },
   {
    "duration": 44,
    "start_time": "2024-03-31T16:35:22.555Z"
   },
   {
    "duration": 3,
    "start_time": "2024-03-31T16:35:22.600Z"
   },
   {
    "duration": 14,
    "start_time": "2024-03-31T16:35:22.605Z"
   },
   {
    "duration": 13,
    "start_time": "2024-03-31T16:35:22.622Z"
   },
   {
    "duration": 64,
    "start_time": "2024-03-31T16:35:22.637Z"
   },
   {
    "duration": 7,
    "start_time": "2024-03-31T16:35:22.703Z"
   },
   {
    "duration": 7,
    "start_time": "2024-03-31T16:35:22.711Z"
   },
   {
    "duration": 23,
    "start_time": "2024-03-31T16:35:22.719Z"
   },
   {
    "duration": 30,
    "start_time": "2024-03-31T16:35:22.744Z"
   },
   {
    "duration": 7,
    "start_time": "2024-03-31T16:35:22.777Z"
   },
   {
    "duration": 8,
    "start_time": "2024-03-31T16:35:22.786Z"
   },
   {
    "duration": 12,
    "start_time": "2024-03-31T16:35:22.795Z"
   },
   {
    "duration": 328,
    "start_time": "2024-03-31T16:35:22.810Z"
   },
   {
    "duration": 320,
    "start_time": "2024-03-31T16:35:23.140Z"
   },
   {
    "duration": 215,
    "start_time": "2024-03-31T16:35:23.462Z"
   },
   {
    "duration": 307,
    "start_time": "2024-03-31T16:35:23.679Z"
   },
   {
    "duration": 340,
    "start_time": "2024-03-31T16:36:43.972Z"
   },
   {
    "duration": 206,
    "start_time": "2024-03-31T16:37:07.689Z"
   },
   {
    "duration": 213,
    "start_time": "2024-03-31T16:37:20.702Z"
   },
   {
    "duration": 5,
    "start_time": "2024-03-31T16:38:09.220Z"
   },
   {
    "duration": 220,
    "start_time": "2024-03-31T16:38:13.710Z"
   },
   {
    "duration": 202,
    "start_time": "2024-03-31T16:38:17.500Z"
   },
   {
    "duration": 228,
    "start_time": "2024-03-31T16:38:22.567Z"
   },
   {
    "duration": 237,
    "start_time": "2024-03-31T16:38:39.021Z"
   },
   {
    "duration": 233,
    "start_time": "2024-03-31T16:39:35.482Z"
   },
   {
    "duration": 4,
    "start_time": "2024-03-31T16:41:04.098Z"
   },
   {
    "duration": 203,
    "start_time": "2024-03-31T16:41:15.528Z"
   },
   {
    "duration": 165,
    "start_time": "2024-03-31T16:41:24.649Z"
   },
   {
    "duration": 199,
    "start_time": "2024-03-31T16:41:41.532Z"
   },
   {
    "duration": 284,
    "start_time": "2024-03-31T16:46:34.015Z"
   },
   {
    "duration": 10,
    "start_time": "2024-03-31T16:57:16.963Z"
   },
   {
    "duration": 911,
    "start_time": "2024-03-31T16:58:26.885Z"
   },
   {
    "duration": 304,
    "start_time": "2024-03-31T16:58:47.713Z"
   },
   {
    "duration": 298,
    "start_time": "2024-03-31T16:59:02.884Z"
   },
   {
    "duration": 271,
    "start_time": "2024-03-31T16:59:40.087Z"
   },
   {
    "duration": 296,
    "start_time": "2024-03-31T16:59:52.844Z"
   },
   {
    "duration": 296,
    "start_time": "2024-03-31T17:00:08.471Z"
   },
   {
    "duration": 313,
    "start_time": "2024-03-31T17:00:14.463Z"
   },
   {
    "duration": 229,
    "start_time": "2024-03-31T17:00:51.712Z"
   },
   {
    "duration": 228,
    "start_time": "2024-03-31T17:01:15.569Z"
   },
   {
    "duration": 328,
    "start_time": "2024-03-31T17:01:40.234Z"
   },
   {
    "duration": 205,
    "start_time": "2024-03-31T17:02:07.383Z"
   },
   {
    "duration": 303,
    "start_time": "2024-03-31T17:02:34.810Z"
   },
   {
    "duration": 225,
    "start_time": "2024-03-31T17:03:17.302Z"
   },
   {
    "duration": 246,
    "start_time": "2024-03-31T17:03:26.802Z"
   },
   {
    "duration": 218,
    "start_time": "2024-03-31T17:03:46.894Z"
   },
   {
    "duration": 356,
    "start_time": "2024-03-31T17:04:18.757Z"
   },
   {
    "duration": 234,
    "start_time": "2024-03-31T17:04:42.739Z"
   },
   {
    "duration": 283,
    "start_time": "2024-03-31T17:05:20.992Z"
   },
   {
    "duration": 295,
    "start_time": "2024-03-31T17:05:34.913Z"
   },
   {
    "duration": 290,
    "start_time": "2024-03-31T17:06:10.503Z"
   },
   {
    "duration": 306,
    "start_time": "2024-03-31T17:06:25.803Z"
   },
   {
    "duration": 383,
    "start_time": "2024-03-31T17:06:55.444Z"
   },
   {
    "duration": 478,
    "start_time": "2024-03-31T17:07:02.142Z"
   },
   {
    "duration": 355,
    "start_time": "2024-03-31T17:08:00.296Z"
   },
   {
    "duration": 295,
    "start_time": "2024-03-31T17:08:51.002Z"
   },
   {
    "duration": 352,
    "start_time": "2024-03-31T17:08:59.458Z"
   },
   {
    "duration": 675,
    "start_time": "2024-03-31T17:09:03.440Z"
   },
   {
    "duration": 43,
    "start_time": "2024-03-31T17:09:04.117Z"
   },
   {
    "duration": 3,
    "start_time": "2024-03-31T17:09:04.162Z"
   },
   {
    "duration": 36,
    "start_time": "2024-03-31T17:09:04.166Z"
   },
   {
    "duration": 12,
    "start_time": "2024-03-31T17:09:04.205Z"
   },
   {
    "duration": 50,
    "start_time": "2024-03-31T17:09:04.219Z"
   },
   {
    "duration": 5,
    "start_time": "2024-03-31T17:09:04.271Z"
   },
   {
    "duration": 3,
    "start_time": "2024-03-31T17:09:04.278Z"
   },
   {
    "duration": 29,
    "start_time": "2024-03-31T17:09:04.283Z"
   },
   {
    "duration": 29,
    "start_time": "2024-03-31T17:09:04.314Z"
   },
   {
    "duration": 19,
    "start_time": "2024-03-31T17:09:04.345Z"
   },
   {
    "duration": 9,
    "start_time": "2024-03-31T17:09:04.367Z"
   },
   {
    "duration": 13,
    "start_time": "2024-03-31T17:09:04.377Z"
   },
   {
    "duration": 317,
    "start_time": "2024-03-31T17:09:04.393Z"
   },
   {
    "duration": 335,
    "start_time": "2024-03-31T17:09:04.711Z"
   },
   {
    "duration": 257,
    "start_time": "2024-03-31T17:09:05.047Z"
   },
   {
    "duration": 337,
    "start_time": "2024-03-31T17:09:05.305Z"
   },
   {
    "duration": 328,
    "start_time": "2024-03-31T17:09:05.644Z"
   },
   {
    "duration": 367,
    "start_time": "2024-03-31T17:09:05.973Z"
   },
   {
    "duration": 58,
    "start_time": "2024-04-01T16:33:46.979Z"
   },
   {
    "duration": 773,
    "start_time": "2024-04-01T16:33:53.614Z"
   },
   {
    "duration": 89,
    "start_time": "2024-04-01T16:33:54.389Z"
   },
   {
    "duration": 2,
    "start_time": "2024-04-01T16:33:54.480Z"
   },
   {
    "duration": 11,
    "start_time": "2024-04-01T16:33:54.484Z"
   },
   {
    "duration": 12,
    "start_time": "2024-04-01T16:33:54.497Z"
   },
   {
    "duration": 105,
    "start_time": "2024-04-01T16:33:54.510Z"
   },
   {
    "duration": 6,
    "start_time": "2024-04-01T16:33:54.617Z"
   },
   {
    "duration": 7,
    "start_time": "2024-04-01T16:33:54.624Z"
   },
   {
    "duration": 26,
    "start_time": "2024-04-01T16:33:54.632Z"
   },
   {
    "duration": 81,
    "start_time": "2024-04-01T16:33:54.660Z"
   },
   {
    "duration": 5,
    "start_time": "2024-04-01T16:33:54.743Z"
   },
   {
    "duration": 18,
    "start_time": "2024-04-01T16:33:54.749Z"
   },
   {
    "duration": 10,
    "start_time": "2024-04-01T16:33:54.769Z"
   },
   {
    "duration": 274,
    "start_time": "2024-04-01T16:33:54.780Z"
   },
   {
    "duration": 281,
    "start_time": "2024-04-01T16:33:55.056Z"
   },
   {
    "duration": 213,
    "start_time": "2024-04-01T16:33:55.338Z"
   },
   {
    "duration": 348,
    "start_time": "2024-04-01T16:33:55.553Z"
   },
   {
    "duration": 281,
    "start_time": "2024-04-01T16:33:55.902Z"
   },
   {
    "duration": 299,
    "start_time": "2024-04-01T16:33:56.185Z"
   },
   {
    "duration": 123,
    "start_time": "2024-04-01T16:33:56.485Z"
   },
   {
    "duration": 123,
    "start_time": "2024-04-01T16:35:41.627Z"
   },
   {
    "duration": 94,
    "start_time": "2024-04-01T16:37:19.460Z"
   },
   {
    "duration": 10,
    "start_time": "2024-04-01T16:37:40.645Z"
   },
   {
    "duration": 13,
    "start_time": "2024-04-01T16:37:54.797Z"
   },
   {
    "duration": 8,
    "start_time": "2024-04-01T16:38:36.230Z"
   },
   {
    "duration": 105,
    "start_time": "2024-04-01T16:39:19.262Z"
   },
   {
    "duration": 105,
    "start_time": "2024-04-01T16:39:35.257Z"
   },
   {
    "duration": 119,
    "start_time": "2024-04-01T16:39:41.457Z"
   },
   {
    "duration": 145,
    "start_time": "2024-04-01T16:42:09.148Z"
   },
   {
    "duration": 4,
    "start_time": "2024-04-01T16:54:14.631Z"
   },
   {
    "duration": 153,
    "start_time": "2024-04-01T17:00:26.094Z"
   },
   {
    "duration": 4,
    "start_time": "2024-04-01T17:00:32.483Z"
   },
   {
    "duration": 1015,
    "start_time": "2024-04-01T17:02:28.145Z"
   },
   {
    "duration": 155,
    "start_time": "2024-04-01T17:02:53.056Z"
   },
   {
    "duration": 216,
    "start_time": "2024-04-01T17:04:18.057Z"
   },
   {
    "duration": 4,
    "start_time": "2024-04-01T17:18:15.328Z"
   },
   {
    "duration": 4,
    "start_time": "2024-04-01T17:19:11.800Z"
   },
   {
    "duration": 4,
    "start_time": "2024-04-01T17:19:30.289Z"
   },
   {
    "duration": 707,
    "start_time": "2024-04-01T17:49:53.140Z"
   },
   {
    "duration": 209,
    "start_time": "2024-04-01T17:51:51.867Z"
   },
   {
    "duration": 709,
    "start_time": "2024-04-01T17:55:44.721Z"
   },
   {
    "duration": 43,
    "start_time": "2024-04-01T17:55:45.432Z"
   },
   {
    "duration": 3,
    "start_time": "2024-04-01T17:55:45.477Z"
   },
   {
    "duration": 31,
    "start_time": "2024-04-01T17:55:45.482Z"
   },
   {
    "duration": 14,
    "start_time": "2024-04-01T17:55:45.514Z"
   },
   {
    "duration": 73,
    "start_time": "2024-04-01T17:55:45.529Z"
   },
   {
    "duration": 5,
    "start_time": "2024-04-01T17:55:45.604Z"
   },
   {
    "duration": 4,
    "start_time": "2024-04-01T17:55:45.611Z"
   },
   {
    "duration": 36,
    "start_time": "2024-04-01T17:55:45.617Z"
   },
   {
    "duration": 34,
    "start_time": "2024-04-01T17:55:45.656Z"
   },
   {
    "duration": 4,
    "start_time": "2024-04-01T17:55:45.692Z"
   },
   {
    "duration": 11,
    "start_time": "2024-04-01T17:55:45.698Z"
   },
   {
    "duration": 16,
    "start_time": "2024-04-01T17:55:45.710Z"
   },
   {
    "duration": 274,
    "start_time": "2024-04-01T17:55:45.728Z"
   },
   {
    "duration": 317,
    "start_time": "2024-04-01T17:55:46.003Z"
   },
   {
    "duration": 219,
    "start_time": "2024-04-01T17:55:46.322Z"
   },
   {
    "duration": 318,
    "start_time": "2024-04-01T17:55:46.544Z"
   },
   {
    "duration": 272,
    "start_time": "2024-04-01T17:55:46.864Z"
   },
   {
    "duration": 327,
    "start_time": "2024-04-01T17:55:47.144Z"
   },
   {
    "duration": 158,
    "start_time": "2024-04-01T17:55:47.473Z"
   },
   {
    "duration": 11,
    "start_time": "2024-04-01T17:55:47.633Z"
   },
   {
    "duration": 175,
    "start_time": "2024-04-01T17:55:47.646Z"
   },
   {
    "duration": 4,
    "start_time": "2024-04-01T17:55:47.822Z"
   },
   {
    "duration": 162,
    "start_time": "2024-04-01T17:55:47.827Z"
   },
   {
    "duration": 114,
    "start_time": "2024-04-01T18:13:13.477Z"
   },
   {
    "duration": 199,
    "start_time": "2024-04-01T18:15:09.163Z"
   },
   {
    "duration": 211,
    "start_time": "2024-04-01T18:15:20.772Z"
   },
   {
    "duration": 9,
    "start_time": "2024-04-01T18:19:53.248Z"
   },
   {
    "duration": 21,
    "start_time": "2024-04-01T18:24:08.276Z"
   },
   {
    "duration": 440,
    "start_time": "2024-04-01T18:24:58.105Z"
   },
   {
    "duration": 33,
    "start_time": "2024-04-01T18:25:02.168Z"
   },
   {
    "duration": 34,
    "start_time": "2024-04-01T18:26:19.629Z"
   },
   {
    "duration": 32,
    "start_time": "2024-04-01T18:26:25.859Z"
   },
   {
    "duration": 1200,
    "start_time": "2024-04-02T15:52:32.064Z"
   },
   {
    "duration": 45,
    "start_time": "2024-04-02T15:52:33.266Z"
   },
   {
    "duration": 4,
    "start_time": "2024-04-02T15:52:33.313Z"
   },
   {
    "duration": 25,
    "start_time": "2024-04-02T15:52:33.319Z"
   },
   {
    "duration": 15,
    "start_time": "2024-04-02T15:52:33.346Z"
   },
   {
    "duration": 71,
    "start_time": "2024-04-02T15:52:33.391Z"
   },
   {
    "duration": 8,
    "start_time": "2024-04-02T15:52:33.464Z"
   },
   {
    "duration": 4,
    "start_time": "2024-04-02T15:52:33.474Z"
   },
   {
    "duration": 22,
    "start_time": "2024-04-02T15:52:33.480Z"
   },
   {
    "duration": 29,
    "start_time": "2024-04-02T15:52:33.504Z"
   },
   {
    "duration": 6,
    "start_time": "2024-04-02T15:52:33.534Z"
   },
   {
    "duration": 11,
    "start_time": "2024-04-02T15:52:33.542Z"
   },
   {
    "duration": 14,
    "start_time": "2024-04-02T15:52:33.555Z"
   },
   {
    "duration": 311,
    "start_time": "2024-04-02T15:52:33.570Z"
   },
   {
    "duration": 335,
    "start_time": "2024-04-02T15:52:33.883Z"
   },
   {
    "duration": 251,
    "start_time": "2024-04-02T15:52:34.220Z"
   },
   {
    "duration": 375,
    "start_time": "2024-04-02T15:52:34.473Z"
   },
   {
    "duration": 280,
    "start_time": "2024-04-02T15:52:34.850Z"
   },
   {
    "duration": 336,
    "start_time": "2024-04-02T15:52:35.132Z"
   },
   {
    "duration": 173,
    "start_time": "2024-04-02T15:52:35.470Z"
   },
   {
    "duration": 4,
    "start_time": "2024-04-02T15:52:35.645Z"
   },
   {
    "duration": 196,
    "start_time": "2024-04-02T15:52:35.651Z"
   },
   {
    "duration": 6,
    "start_time": "2024-04-02T15:52:35.849Z"
   },
   {
    "duration": 270,
    "start_time": "2024-04-02T15:52:35.857Z"
   },
   {
    "duration": 44,
    "start_time": "2024-04-02T15:52:36.129Z"
   },
   {
    "duration": 58,
    "start_time": "2024-04-02T15:55:23.539Z"
   },
   {
    "duration": 181,
    "start_time": "2024-04-02T15:55:38.141Z"
   },
   {
    "duration": 44,
    "start_time": "2024-04-02T15:55:44.553Z"
   },
   {
    "duration": 19,
    "start_time": "2024-04-02T15:56:47.664Z"
   },
   {
    "duration": 21,
    "start_time": "2024-04-02T15:57:01.245Z"
   },
   {
    "duration": 19,
    "start_time": "2024-04-02T15:57:10.273Z"
   },
   {
    "duration": 19,
    "start_time": "2024-04-02T15:57:14.645Z"
   },
   {
    "duration": 15,
    "start_time": "2024-04-02T16:02:51.679Z"
   },
   {
    "duration": 42,
    "start_time": "2024-04-02T16:04:54.056Z"
   },
   {
    "duration": 20,
    "start_time": "2024-04-02T16:05:07.411Z"
   },
   {
    "duration": 40,
    "start_time": "2024-04-02T16:07:07.164Z"
   },
   {
    "duration": 37,
    "start_time": "2024-04-02T16:07:23.983Z"
   },
   {
    "duration": 40,
    "start_time": "2024-04-02T16:07:28.947Z"
   },
   {
    "duration": 181,
    "start_time": "2024-04-02T16:12:09.733Z"
   },
   {
    "duration": 12,
    "start_time": "2024-04-02T16:39:18.524Z"
   },
   {
    "duration": 11,
    "start_time": "2024-04-02T16:58:39.761Z"
   },
   {
    "duration": 34,
    "start_time": "2024-04-02T17:04:19.661Z"
   },
   {
    "duration": 20,
    "start_time": "2024-04-02T17:06:12.715Z"
   },
   {
    "duration": 15,
    "start_time": "2024-04-02T17:07:09.309Z"
   },
   {
    "duration": 1224,
    "start_time": "2024-04-02T17:19:58.261Z"
   },
   {
    "duration": 48,
    "start_time": "2024-04-02T17:19:59.487Z"
   },
   {
    "duration": 3,
    "start_time": "2024-04-02T17:19:59.537Z"
   },
   {
    "duration": 78,
    "start_time": "2024-04-02T17:19:59.542Z"
   },
   {
    "duration": 14,
    "start_time": "2024-04-02T17:19:59.622Z"
   },
   {
    "duration": 62,
    "start_time": "2024-04-02T17:19:59.637Z"
   },
   {
    "duration": 7,
    "start_time": "2024-04-02T17:19:59.701Z"
   },
   {
    "duration": 18,
    "start_time": "2024-04-02T17:19:59.710Z"
   },
   {
    "duration": 41,
    "start_time": "2024-04-02T17:19:59.730Z"
   },
   {
    "duration": 44,
    "start_time": "2024-04-02T17:19:59.774Z"
   },
   {
    "duration": 7,
    "start_time": "2024-04-02T17:19:59.820Z"
   },
   {
    "duration": 28,
    "start_time": "2024-04-02T17:19:59.829Z"
   },
   {
    "duration": 17,
    "start_time": "2024-04-02T17:19:59.859Z"
   },
   {
    "duration": 330,
    "start_time": "2024-04-02T17:19:59.878Z"
   },
   {
    "duration": 347,
    "start_time": "2024-04-02T17:20:00.210Z"
   },
   {
    "duration": 666,
    "start_time": "2024-04-02T17:20:00.559Z"
   },
   {
    "duration": 375,
    "start_time": "2024-04-02T17:20:01.227Z"
   },
   {
    "duration": 298,
    "start_time": "2024-04-02T17:20:01.604Z"
   },
   {
    "duration": 366,
    "start_time": "2024-04-02T17:20:01.904Z"
   },
   {
    "duration": 191,
    "start_time": "2024-04-02T17:20:02.272Z"
   },
   {
    "duration": 5,
    "start_time": "2024-04-02T17:20:02.465Z"
   },
   {
    "duration": 258,
    "start_time": "2024-04-02T17:20:02.472Z"
   },
   {
    "duration": 5,
    "start_time": "2024-04-02T17:20:02.732Z"
   },
   {
    "duration": 319,
    "start_time": "2024-04-02T17:20:02.739Z"
   },
   {
    "duration": 192,
    "start_time": "2024-04-02T17:20:03.060Z"
   },
   {
    "duration": 11,
    "start_time": "2024-04-02T17:20:03.254Z"
   },
   {
    "duration": 31,
    "start_time": "2024-04-02T17:20:03.267Z"
   },
   {
    "duration": 47,
    "start_time": "2024-04-02T17:20:03.302Z"
   },
   {
    "duration": 22,
    "start_time": "2024-04-02T17:20:03.350Z"
   },
   {
    "duration": 1399,
    "start_time": "2024-04-03T07:50:43.947Z"
   },
   {
    "duration": 93,
    "start_time": "2024-04-03T07:50:45.348Z"
   },
   {
    "duration": 4,
    "start_time": "2024-04-03T07:50:45.444Z"
   },
   {
    "duration": 44,
    "start_time": "2024-04-03T07:50:45.450Z"
   },
   {
    "duration": 34,
    "start_time": "2024-04-03T07:50:45.496Z"
   },
   {
    "duration": 132,
    "start_time": "2024-04-03T07:50:45.531Z"
   },
   {
    "duration": 6,
    "start_time": "2024-04-03T07:50:45.664Z"
   },
   {
    "duration": 8,
    "start_time": "2024-04-03T07:50:45.672Z"
   },
   {
    "duration": 23,
    "start_time": "2024-04-03T07:50:45.682Z"
   },
   {
    "duration": 79,
    "start_time": "2024-04-03T07:50:45.708Z"
   },
   {
    "duration": 5,
    "start_time": "2024-04-03T07:50:45.789Z"
   },
   {
    "duration": 5,
    "start_time": "2024-04-03T07:50:45.796Z"
   },
   {
    "duration": 27,
    "start_time": "2024-04-03T07:50:45.803Z"
   },
   {
    "duration": 302,
    "start_time": "2024-04-03T07:50:45.832Z"
   },
   {
    "duration": 319,
    "start_time": "2024-04-03T07:50:46.135Z"
   },
   {
    "duration": 229,
    "start_time": "2024-04-03T07:50:46.455Z"
   },
   {
    "duration": 424,
    "start_time": "2024-04-03T07:50:46.686Z"
   },
   {
    "duration": 263,
    "start_time": "2024-04-03T07:50:47.111Z"
   },
   {
    "duration": 336,
    "start_time": "2024-04-03T07:50:47.381Z"
   },
   {
    "duration": 177,
    "start_time": "2024-04-03T07:50:47.720Z"
   },
   {
    "duration": 5,
    "start_time": "2024-04-03T07:50:47.899Z"
   },
   {
    "duration": 201,
    "start_time": "2024-04-03T07:50:47.905Z"
   },
   {
    "duration": 4,
    "start_time": "2024-04-03T07:50:48.108Z"
   },
   {
    "duration": 271,
    "start_time": "2024-04-03T07:50:48.115Z"
   },
   {
    "duration": 202,
    "start_time": "2024-04-03T07:50:48.388Z"
   },
   {
    "duration": 10,
    "start_time": "2024-04-03T07:50:48.592Z"
   },
   {
    "duration": 18,
    "start_time": "2024-04-03T07:50:48.604Z"
   },
   {
    "duration": 30,
    "start_time": "2024-04-03T07:50:48.625Z"
   },
   {
    "duration": 32,
    "start_time": "2024-04-03T07:50:48.657Z"
   },
   {
    "duration": 1121,
    "start_time": "2024-04-03T08:10:15.706Z"
   },
   {
    "duration": 42,
    "start_time": "2024-04-03T08:10:16.829Z"
   },
   {
    "duration": 4,
    "start_time": "2024-04-03T08:10:16.873Z"
   },
   {
    "duration": 17,
    "start_time": "2024-04-03T08:10:16.878Z"
   },
   {
    "duration": 18,
    "start_time": "2024-04-03T08:10:16.897Z"
   },
   {
    "duration": 50,
    "start_time": "2024-04-03T08:10:16.916Z"
   },
   {
    "duration": 5,
    "start_time": "2024-04-03T08:10:16.968Z"
   },
   {
    "duration": 3,
    "start_time": "2024-04-03T08:10:16.974Z"
   },
   {
    "duration": 23,
    "start_time": "2024-04-03T08:10:16.979Z"
   },
   {
    "duration": 33,
    "start_time": "2024-04-03T08:10:17.003Z"
   },
   {
    "duration": 5,
    "start_time": "2024-04-03T08:10:17.037Z"
   },
   {
    "duration": 4,
    "start_time": "2024-04-03T08:10:17.044Z"
   },
   {
    "duration": 11,
    "start_time": "2024-04-03T08:10:17.049Z"
   },
   {
    "duration": 280,
    "start_time": "2024-04-03T08:10:17.063Z"
   },
   {
    "duration": 301,
    "start_time": "2024-04-03T08:10:17.345Z"
   },
   {
    "duration": 225,
    "start_time": "2024-04-03T08:10:17.648Z"
   },
   {
    "duration": 332,
    "start_time": "2024-04-03T08:10:17.875Z"
   },
   {
    "duration": 251,
    "start_time": "2024-04-03T08:10:18.209Z"
   },
   {
    "duration": 348,
    "start_time": "2024-04-03T08:10:18.462Z"
   },
   {
    "duration": 148,
    "start_time": "2024-04-03T08:10:18.811Z"
   },
   {
    "duration": 4,
    "start_time": "2024-04-03T08:10:18.960Z"
   },
   {
    "duration": 180,
    "start_time": "2024-04-03T08:10:18.966Z"
   },
   {
    "duration": 4,
    "start_time": "2024-04-03T08:10:19.148Z"
   },
   {
    "duration": 232,
    "start_time": "2024-04-03T08:10:19.154Z"
   },
   {
    "duration": 176,
    "start_time": "2024-04-03T08:10:19.387Z"
   },
   {
    "duration": 20,
    "start_time": "2024-04-03T08:10:19.564Z"
   },
   {
    "duration": 10,
    "start_time": "2024-04-03T08:10:19.585Z"
   },
   {
    "duration": 30,
    "start_time": "2024-04-03T08:10:19.596Z"
   },
   {
    "duration": 14,
    "start_time": "2024-04-03T08:10:19.628Z"
   },
   {
    "duration": 1208,
    "start_time": "2024-04-03T16:50:25.839Z"
   },
   {
    "duration": 93,
    "start_time": "2024-04-03T16:50:27.049Z"
   },
   {
    "duration": 3,
    "start_time": "2024-04-03T16:50:27.144Z"
   },
   {
    "duration": 16,
    "start_time": "2024-04-03T16:50:27.148Z"
   },
   {
    "duration": 12,
    "start_time": "2024-04-03T16:50:27.165Z"
   },
   {
    "duration": 105,
    "start_time": "2024-04-03T16:50:27.178Z"
   },
   {
    "duration": 6,
    "start_time": "2024-04-03T16:50:27.284Z"
   },
   {
    "duration": 6,
    "start_time": "2024-04-03T16:50:27.291Z"
   },
   {
    "duration": 23,
    "start_time": "2024-04-03T16:50:27.298Z"
   },
   {
    "duration": 84,
    "start_time": "2024-04-03T16:50:27.323Z"
   },
   {
    "duration": 5,
    "start_time": "2024-04-03T16:50:27.408Z"
   },
   {
    "duration": 4,
    "start_time": "2024-04-03T16:50:27.415Z"
   },
   {
    "duration": 13,
    "start_time": "2024-04-03T16:50:27.420Z"
   },
   {
    "duration": 293,
    "start_time": "2024-04-03T16:50:27.435Z"
   },
   {
    "duration": 311,
    "start_time": "2024-04-03T16:50:27.730Z"
   },
   {
    "duration": 220,
    "start_time": "2024-04-03T16:50:28.043Z"
   },
   {
    "duration": 399,
    "start_time": "2024-04-03T16:50:28.264Z"
   },
   {
    "duration": 237,
    "start_time": "2024-04-03T16:50:28.665Z"
   },
   {
    "duration": 325,
    "start_time": "2024-04-03T16:50:28.904Z"
   },
   {
    "duration": 158,
    "start_time": "2024-04-03T16:50:29.231Z"
   },
   {
    "duration": 4,
    "start_time": "2024-04-03T16:50:29.391Z"
   },
   {
    "duration": 171,
    "start_time": "2024-04-03T16:50:29.396Z"
   },
   {
    "duration": 4,
    "start_time": "2024-04-03T16:50:29.569Z"
   },
   {
    "duration": 230,
    "start_time": "2024-04-03T16:50:29.574Z"
   },
   {
    "duration": 172,
    "start_time": "2024-04-03T16:50:29.806Z"
   },
   {
    "duration": 15,
    "start_time": "2024-04-03T16:50:29.980Z"
   },
   {
    "duration": 10,
    "start_time": "2024-04-03T16:50:29.996Z"
   },
   {
    "duration": 51,
    "start_time": "2024-04-03T16:50:30.009Z"
   },
   {
    "duration": 27,
    "start_time": "2024-04-03T16:50:30.061Z"
   },
   {
    "duration": 5,
    "start_time": "2024-04-03T17:00:08.608Z"
   },
   {
    "duration": 5,
    "start_time": "2024-04-03T17:00:15.616Z"
   },
   {
    "duration": 98,
    "start_time": "2024-04-03T17:00:29.711Z"
   },
   {
    "duration": 6,
    "start_time": "2024-04-03T17:00:36.221Z"
   },
   {
    "duration": 10,
    "start_time": "2024-04-03T17:00:46.312Z"
   },
   {
    "duration": 6,
    "start_time": "2024-04-03T17:01:25.323Z"
   },
   {
    "duration": 10,
    "start_time": "2024-04-03T17:01:53.388Z"
   },
   {
    "duration": 11,
    "start_time": "2024-04-03T17:01:57.177Z"
   },
   {
    "duration": 6,
    "start_time": "2024-04-03T17:03:03.498Z"
   },
   {
    "duration": 36,
    "start_time": "2024-04-03T17:07:19.274Z"
   },
   {
    "duration": 33,
    "start_time": "2024-04-03T17:07:30.494Z"
   },
   {
    "duration": 33,
    "start_time": "2024-04-03T17:07:41.591Z"
   },
   {
    "duration": 32,
    "start_time": "2024-04-03T17:08:18.863Z"
   },
   {
    "duration": 31,
    "start_time": "2024-04-03T17:09:36.730Z"
   },
   {
    "duration": 6,
    "start_time": "2024-04-03T17:12:30.289Z"
   },
   {
    "duration": 4,
    "start_time": "2024-04-03T17:14:09.479Z"
   },
   {
    "duration": 1140,
    "start_time": "2024-04-03T17:15:21.928Z"
   },
   {
    "duration": 6,
    "start_time": "2024-04-03T17:15:41.992Z"
   },
   {
    "duration": 6,
    "start_time": "2024-04-03T17:16:37.692Z"
   },
   {
    "duration": 7,
    "start_time": "2024-04-03T17:16:52.840Z"
   },
   {
    "duration": 11,
    "start_time": "2024-04-03T17:17:31.509Z"
   },
   {
    "duration": 11,
    "start_time": "2024-04-03T17:18:02.839Z"
   },
   {
    "duration": 9,
    "start_time": "2024-04-03T17:18:36.403Z"
   },
   {
    "duration": 13,
    "start_time": "2024-04-03T17:18:44.053Z"
   },
   {
    "duration": 11,
    "start_time": "2024-04-03T17:19:09.970Z"
   },
   {
    "duration": 9,
    "start_time": "2024-04-03T17:19:31.436Z"
   },
   {
    "duration": 4,
    "start_time": "2024-04-03T17:25:38.944Z"
   },
   {
    "duration": 373,
    "start_time": "2024-04-03T17:26:03.413Z"
   },
   {
    "duration": 12,
    "start_time": "2024-04-03T17:26:16.579Z"
   },
   {
    "duration": 12,
    "start_time": "2024-04-03T17:27:35.735Z"
   },
   {
    "duration": 5,
    "start_time": "2024-04-03T17:28:33.301Z"
   },
   {
    "duration": 57,
    "start_time": "2024-04-03T17:29:11.815Z"
   },
   {
    "duration": 13,
    "start_time": "2024-04-03T17:29:19.312Z"
   },
   {
    "duration": 56,
    "start_time": "2024-04-03T17:29:25.524Z"
   },
   {
    "duration": 6,
    "start_time": "2024-04-03T17:29:27.360Z"
   },
   {
    "duration": 3,
    "start_time": "2024-04-03T17:29:28.193Z"
   },
   {
    "duration": 9,
    "start_time": "2024-04-03T17:29:32.222Z"
   },
   {
    "duration": 4,
    "start_time": "2024-04-03T17:29:34.289Z"
   },
   {
    "duration": 17,
    "start_time": "2024-04-03T17:29:35.763Z"
   },
   {
    "duration": 192,
    "start_time": "2024-04-03T17:37:17.824Z"
   },
   {
    "duration": 1230,
    "start_time": "2024-04-03T17:37:26.317Z"
   },
   {
    "duration": 43,
    "start_time": "2024-04-03T17:37:27.549Z"
   },
   {
    "duration": 3,
    "start_time": "2024-04-03T17:37:27.594Z"
   },
   {
    "duration": 13,
    "start_time": "2024-04-03T17:37:27.599Z"
   },
   {
    "duration": 13,
    "start_time": "2024-04-03T17:37:27.613Z"
   },
   {
    "duration": 52,
    "start_time": "2024-04-03T17:37:27.627Z"
   },
   {
    "duration": 6,
    "start_time": "2024-04-03T17:37:27.681Z"
   },
   {
    "duration": 5,
    "start_time": "2024-04-03T17:37:27.688Z"
   },
   {
    "duration": 16,
    "start_time": "2024-04-03T17:37:27.695Z"
   },
   {
    "duration": 4,
    "start_time": "2024-04-03T17:37:27.714Z"
   },
   {
    "duration": 20,
    "start_time": "2024-04-03T17:37:27.720Z"
   },
   {
    "duration": 29,
    "start_time": "2024-04-03T17:37:27.742Z"
   },
   {
    "duration": 6,
    "start_time": "2024-04-03T17:37:27.772Z"
   },
   {
    "duration": 12,
    "start_time": "2024-04-03T17:37:27.779Z"
   },
   {
    "duration": 12,
    "start_time": "2024-04-03T17:37:27.792Z"
   },
   {
    "duration": 302,
    "start_time": "2024-04-03T17:37:27.806Z"
   },
   {
    "duration": 313,
    "start_time": "2024-04-03T17:37:28.109Z"
   },
   {
    "duration": 251,
    "start_time": "2024-04-03T17:37:28.424Z"
   },
   {
    "duration": 328,
    "start_time": "2024-04-03T17:37:28.676Z"
   },
   {
    "duration": 235,
    "start_time": "2024-04-03T17:37:29.006Z"
   },
   {
    "duration": 313,
    "start_time": "2024-04-03T17:37:29.243Z"
   },
   {
    "duration": 171,
    "start_time": "2024-04-03T17:37:29.558Z"
   },
   {
    "duration": 5,
    "start_time": "2024-04-03T17:37:29.731Z"
   },
   {
    "duration": 169,
    "start_time": "2024-04-03T17:37:29.738Z"
   },
   {
    "duration": 176,
    "start_time": "2024-04-03T17:37:29.909Z"
   },
   {
    "duration": 5,
    "start_time": "2024-04-03T17:37:30.088Z"
   },
   {
    "duration": 288,
    "start_time": "2024-04-03T17:37:30.095Z"
   },
   {
    "duration": 143,
    "start_time": "2024-04-03T17:37:30.389Z"
   },
   {
    "duration": 10,
    "start_time": "2024-04-03T17:37:30.534Z"
   },
   {
    "duration": 122,
    "start_time": "2024-04-03T17:37:30.545Z"
   },
   {
    "duration": 63,
    "start_time": "2024-04-03T17:37:30.669Z"
   },
   {
    "duration": 23,
    "start_time": "2024-04-03T17:37:30.734Z"
   },
   {
    "duration": 13,
    "start_time": "2024-04-03T18:00:42.283Z"
   },
   {
    "duration": 106,
    "start_time": "2024-04-03T18:06:57.347Z"
   },
   {
    "duration": 16,
    "start_time": "2024-04-03T18:07:25.088Z"
   },
   {
    "duration": 28,
    "start_time": "2024-04-03T18:07:38.940Z"
   },
   {
    "duration": 6,
    "start_time": "2024-04-03T18:07:45.692Z"
   },
   {
    "duration": 10,
    "start_time": "2024-04-03T18:23:20.928Z"
   },
   {
    "duration": 42,
    "start_time": "2024-04-03T18:25:27.534Z"
   },
   {
    "duration": 10,
    "start_time": "2024-04-03T18:25:46.919Z"
   },
   {
    "duration": 217,
    "start_time": "2024-04-03T18:27:05.550Z"
   },
   {
    "duration": 44,
    "start_time": "2024-04-03T18:28:45.179Z"
   },
   {
    "duration": 216,
    "start_time": "2024-04-03T18:29:07.973Z"
   },
   {
    "duration": 144,
    "start_time": "2024-04-03T18:35:08.334Z"
   },
   {
    "duration": 159,
    "start_time": "2024-04-03T18:35:39.799Z"
   },
   {
    "duration": 1104,
    "start_time": "2024-04-03T18:36:51.279Z"
   },
   {
    "duration": 43,
    "start_time": "2024-04-03T18:36:52.385Z"
   },
   {
    "duration": 3,
    "start_time": "2024-04-03T18:36:52.429Z"
   },
   {
    "duration": 12,
    "start_time": "2024-04-03T18:36:52.434Z"
   },
   {
    "duration": 11,
    "start_time": "2024-04-03T18:36:52.448Z"
   },
   {
    "duration": 47,
    "start_time": "2024-04-03T18:36:52.460Z"
   },
   {
    "duration": 6,
    "start_time": "2024-04-03T18:36:52.508Z"
   },
   {
    "duration": 3,
    "start_time": "2024-04-03T18:36:52.515Z"
   },
   {
    "duration": 11,
    "start_time": "2024-04-03T18:36:52.519Z"
   },
   {
    "duration": 4,
    "start_time": "2024-04-03T18:36:52.532Z"
   },
   {
    "duration": 29,
    "start_time": "2024-04-03T18:36:52.537Z"
   },
   {
    "duration": 31,
    "start_time": "2024-04-03T18:36:52.567Z"
   },
   {
    "duration": 5,
    "start_time": "2024-04-03T18:36:52.599Z"
   },
   {
    "duration": 4,
    "start_time": "2024-04-03T18:36:52.606Z"
   },
   {
    "duration": 15,
    "start_time": "2024-04-03T18:36:52.611Z"
   },
   {
    "duration": 279,
    "start_time": "2024-04-03T18:36:52.628Z"
   },
   {
    "duration": 294,
    "start_time": "2024-04-03T18:36:52.909Z"
   },
   {
    "duration": 233,
    "start_time": "2024-04-03T18:36:53.204Z"
   },
   {
    "duration": 305,
    "start_time": "2024-04-03T18:36:53.438Z"
   },
   {
    "duration": 238,
    "start_time": "2024-04-03T18:36:53.745Z"
   },
   {
    "duration": 321,
    "start_time": "2024-04-03T18:36:53.985Z"
   },
   {
    "duration": 190,
    "start_time": "2024-04-03T18:36:54.308Z"
   },
   {
    "duration": 4,
    "start_time": "2024-04-03T18:36:54.500Z"
   },
   {
    "duration": 178,
    "start_time": "2024-04-03T18:36:54.505Z"
   },
   {
    "duration": 172,
    "start_time": "2024-04-03T18:36:54.686Z"
   },
   {
    "duration": 4,
    "start_time": "2024-04-03T18:36:54.860Z"
   },
   {
    "duration": 22,
    "start_time": "2024-04-03T18:36:54.865Z"
   },
   {
    "duration": 112,
    "start_time": "2024-04-03T18:36:54.891Z"
   },
   {
    "duration": 162,
    "start_time": "2024-04-03T18:36:55.004Z"
   },
   {
    "duration": 10,
    "start_time": "2024-04-03T18:36:55.167Z"
   },
   {
    "duration": 8,
    "start_time": "2024-04-03T18:36:55.187Z"
   },
   {
    "duration": 36,
    "start_time": "2024-04-03T18:36:55.196Z"
   },
   {
    "duration": 13,
    "start_time": "2024-04-03T18:36:55.234Z"
   },
   {
    "duration": 1099,
    "start_time": "2024-04-03T18:37:07.744Z"
   },
   {
    "duration": 51,
    "start_time": "2024-04-03T18:37:08.845Z"
   },
   {
    "duration": 3,
    "start_time": "2024-04-03T18:37:08.898Z"
   },
   {
    "duration": 17,
    "start_time": "2024-04-03T18:37:08.903Z"
   },
   {
    "duration": 12,
    "start_time": "2024-04-03T18:37:08.922Z"
   },
   {
    "duration": 51,
    "start_time": "2024-04-03T18:37:08.936Z"
   },
   {
    "duration": 6,
    "start_time": "2024-04-03T18:37:08.989Z"
   },
   {
    "duration": 4,
    "start_time": "2024-04-03T18:37:08.996Z"
   },
   {
    "duration": 36,
    "start_time": "2024-04-03T18:37:09.001Z"
   },
   {
    "duration": 3,
    "start_time": "2024-04-03T18:37:09.039Z"
   },
   {
    "duration": 20,
    "start_time": "2024-04-03T18:37:09.044Z"
   },
   {
    "duration": 36,
    "start_time": "2024-04-03T18:37:09.066Z"
   },
   {
    "duration": 7,
    "start_time": "2024-04-03T18:37:09.104Z"
   },
   {
    "duration": 5,
    "start_time": "2024-04-03T18:37:09.115Z"
   },
   {
    "duration": 11,
    "start_time": "2024-04-03T18:37:09.122Z"
   },
   {
    "duration": 310,
    "start_time": "2024-04-03T18:37:09.134Z"
   },
   {
    "duration": 312,
    "start_time": "2024-04-03T18:37:09.446Z"
   },
   {
    "duration": 232,
    "start_time": "2024-04-03T18:37:09.759Z"
   },
   {
    "duration": 349,
    "start_time": "2024-04-03T18:37:09.993Z"
   },
   {
    "duration": 247,
    "start_time": "2024-04-03T18:37:10.343Z"
   },
   {
    "duration": 340,
    "start_time": "2024-04-03T18:37:10.591Z"
   },
   {
    "duration": 170,
    "start_time": "2024-04-03T18:37:10.932Z"
   },
   {
    "duration": 4,
    "start_time": "2024-04-03T18:37:11.105Z"
   },
   {
    "duration": 187,
    "start_time": "2024-04-03T18:37:11.111Z"
   },
   {
    "duration": 176,
    "start_time": "2024-04-03T18:37:11.299Z"
   },
   {
    "duration": 11,
    "start_time": "2024-04-03T18:37:11.476Z"
   },
   {
    "duration": 38,
    "start_time": "2024-04-03T18:37:11.489Z"
   },
   {
    "duration": 110,
    "start_time": "2024-04-03T18:37:11.529Z"
   },
   {
    "duration": 191,
    "start_time": "2024-04-03T18:37:11.640Z"
   },
   {
    "duration": 10,
    "start_time": "2024-04-03T18:37:11.833Z"
   },
   {
    "duration": 23,
    "start_time": "2024-04-03T18:37:11.844Z"
   },
   {
    "duration": 55,
    "start_time": "2024-04-03T18:37:11.869Z"
   },
   {
    "duration": 13,
    "start_time": "2024-04-03T18:37:11.925Z"
   },
   {
    "duration": 48,
    "start_time": "2024-04-03T18:38:20.839Z"
   },
   {
    "duration": 237,
    "start_time": "2024-04-03T18:38:21.661Z"
   },
   {
    "duration": 52,
    "start_time": "2024-04-03T18:40:37.217Z"
   },
   {
    "duration": 10,
    "start_time": "2024-04-03T18:41:30.516Z"
   },
   {
    "duration": 10,
    "start_time": "2024-04-03T18:47:31.179Z"
   },
   {
    "duration": 4,
    "start_time": "2024-04-03T18:49:25.396Z"
   },
   {
    "duration": 5,
    "start_time": "2024-04-03T18:49:33.453Z"
   },
   {
    "duration": 4,
    "start_time": "2024-04-03T18:49:37.186Z"
   },
   {
    "duration": 4,
    "start_time": "2024-04-03T18:49:42.838Z"
   },
   {
    "duration": 1078,
    "start_time": "2024-04-03T18:51:09.137Z"
   },
   {
    "duration": 42,
    "start_time": "2024-04-03T18:51:10.216Z"
   },
   {
    "duration": 3,
    "start_time": "2024-04-03T18:51:10.259Z"
   },
   {
    "duration": 15,
    "start_time": "2024-04-03T18:51:10.264Z"
   },
   {
    "duration": 11,
    "start_time": "2024-04-03T18:51:10.281Z"
   },
   {
    "duration": 51,
    "start_time": "2024-04-03T18:51:10.293Z"
   },
   {
    "duration": 5,
    "start_time": "2024-04-03T18:51:10.345Z"
   },
   {
    "duration": 3,
    "start_time": "2024-04-03T18:51:10.351Z"
   },
   {
    "duration": 16,
    "start_time": "2024-04-03T18:51:10.355Z"
   },
   {
    "duration": 4,
    "start_time": "2024-04-03T18:51:10.372Z"
   },
   {
    "duration": 27,
    "start_time": "2024-04-03T18:51:10.377Z"
   },
   {
    "duration": 43,
    "start_time": "2024-04-03T18:51:10.405Z"
   },
   {
    "duration": 5,
    "start_time": "2024-04-03T18:51:10.449Z"
   },
   {
    "duration": 5,
    "start_time": "2024-04-03T18:51:10.457Z"
   },
   {
    "duration": 16,
    "start_time": "2024-04-03T18:51:10.464Z"
   },
   {
    "duration": 284,
    "start_time": "2024-04-03T18:51:10.482Z"
   },
   {
    "duration": 313,
    "start_time": "2024-04-03T18:51:10.767Z"
   },
   {
    "duration": 230,
    "start_time": "2024-04-03T18:51:11.081Z"
   },
   {
    "duration": 305,
    "start_time": "2024-04-03T18:51:11.313Z"
   },
   {
    "duration": 236,
    "start_time": "2024-04-03T18:51:11.620Z"
   },
   {
    "duration": 341,
    "start_time": "2024-04-03T18:51:11.857Z"
   },
   {
    "duration": 172,
    "start_time": "2024-04-03T18:51:12.199Z"
   },
   {
    "duration": 4,
    "start_time": "2024-04-03T18:51:12.373Z"
   },
   {
    "duration": 161,
    "start_time": "2024-04-03T18:51:12.378Z"
   },
   {
    "duration": 171,
    "start_time": "2024-04-03T18:51:12.540Z"
   },
   {
    "duration": 4,
    "start_time": "2024-04-03T18:51:12.712Z"
   },
   {
    "duration": 9,
    "start_time": "2024-04-03T18:51:12.717Z"
   },
   {
    "duration": 120,
    "start_time": "2024-04-03T18:51:12.728Z"
   },
   {
    "duration": 162,
    "start_time": "2024-04-03T18:51:12.849Z"
   },
   {
    "duration": 12,
    "start_time": "2024-04-03T18:51:13.013Z"
   },
   {
    "duration": 20,
    "start_time": "2024-04-03T18:51:13.026Z"
   },
   {
    "duration": 61,
    "start_time": "2024-04-03T18:51:13.049Z"
   },
   {
    "duration": 13,
    "start_time": "2024-04-03T18:51:13.112Z"
   },
   {
    "duration": 10,
    "start_time": "2024-04-03T18:57:49.516Z"
   },
   {
    "duration": 10,
    "start_time": "2024-04-03T18:59:13.080Z"
   },
   {
    "duration": 29,
    "start_time": "2024-04-03T18:59:58.956Z"
   },
   {
    "duration": 13,
    "start_time": "2024-04-03T19:00:22.157Z"
   },
   {
    "duration": 1044,
    "start_time": "2024-04-03T19:26:17.201Z"
   },
   {
    "duration": 41,
    "start_time": "2024-04-03T19:26:18.247Z"
   },
   {
    "duration": 3,
    "start_time": "2024-04-03T19:26:18.290Z"
   },
   {
    "duration": 11,
    "start_time": "2024-04-03T19:26:18.295Z"
   },
   {
    "duration": 12,
    "start_time": "2024-04-03T19:26:18.308Z"
   },
   {
    "duration": 46,
    "start_time": "2024-04-03T19:26:18.321Z"
   },
   {
    "duration": 5,
    "start_time": "2024-04-03T19:26:18.369Z"
   },
   {
    "duration": 3,
    "start_time": "2024-04-03T19:26:18.375Z"
   },
   {
    "duration": 10,
    "start_time": "2024-04-03T19:26:18.387Z"
   },
   {
    "duration": 4,
    "start_time": "2024-04-03T19:26:18.399Z"
   },
   {
    "duration": 20,
    "start_time": "2024-04-03T19:26:18.404Z"
   },
   {
    "duration": 27,
    "start_time": "2024-04-03T19:26:18.426Z"
   },
   {
    "duration": 6,
    "start_time": "2024-04-03T19:26:18.454Z"
   },
   {
    "duration": 30,
    "start_time": "2024-04-03T19:26:18.461Z"
   },
   {
    "duration": 14,
    "start_time": "2024-04-03T19:26:18.492Z"
   },
   {
    "duration": 280,
    "start_time": "2024-04-03T19:26:18.507Z"
   },
   {
    "duration": 302,
    "start_time": "2024-04-03T19:26:18.789Z"
   },
   {
    "duration": 225,
    "start_time": "2024-04-03T19:26:19.093Z"
   },
   {
    "duration": 301,
    "start_time": "2024-04-03T19:26:19.320Z"
   },
   {
    "duration": 231,
    "start_time": "2024-04-03T19:26:19.623Z"
   },
   {
    "duration": 341,
    "start_time": "2024-04-03T19:26:19.855Z"
   },
   {
    "duration": 165,
    "start_time": "2024-04-03T19:26:20.198Z"
   },
   {
    "duration": 3,
    "start_time": "2024-04-03T19:26:20.365Z"
   },
   {
    "duration": 165,
    "start_time": "2024-04-03T19:26:20.370Z"
   },
   {
    "duration": 165,
    "start_time": "2024-04-03T19:26:20.537Z"
   },
   {
    "duration": 4,
    "start_time": "2024-04-03T19:26:20.704Z"
   },
   {
    "duration": 25,
    "start_time": "2024-04-03T19:26:20.710Z"
   },
   {
    "duration": 109,
    "start_time": "2024-04-03T19:26:20.739Z"
   },
   {
    "duration": 99,
    "start_time": "2024-04-03T19:26:20.849Z"
   },
   {
    "duration": 0,
    "start_time": "2024-04-03T19:26:20.950Z"
   },
   {
    "duration": 0,
    "start_time": "2024-04-03T19:26:20.951Z"
   },
   {
    "duration": 0,
    "start_time": "2024-04-03T19:26:20.952Z"
   },
   {
    "duration": 0,
    "start_time": "2024-04-03T19:26:20.953Z"
   },
   {
    "duration": 143,
    "start_time": "2024-04-03T19:26:58.445Z"
   },
   {
    "duration": 1147,
    "start_time": "2024-04-03T19:27:03.705Z"
   },
   {
    "duration": 42,
    "start_time": "2024-04-03T19:27:04.854Z"
   },
   {
    "duration": 5,
    "start_time": "2024-04-03T19:27:04.897Z"
   },
   {
    "duration": 17,
    "start_time": "2024-04-03T19:27:04.903Z"
   },
   {
    "duration": 12,
    "start_time": "2024-04-03T19:27:04.922Z"
   },
   {
    "duration": 53,
    "start_time": "2024-04-03T19:27:04.936Z"
   },
   {
    "duration": 5,
    "start_time": "2024-04-03T19:27:04.991Z"
   },
   {
    "duration": 3,
    "start_time": "2024-04-03T19:27:04.998Z"
   },
   {
    "duration": 15,
    "start_time": "2024-04-03T19:27:05.002Z"
   },
   {
    "duration": 4,
    "start_time": "2024-04-03T19:27:05.019Z"
   },
   {
    "duration": 19,
    "start_time": "2024-04-03T19:27:05.025Z"
   },
   {
    "duration": 43,
    "start_time": "2024-04-03T19:27:05.045Z"
   },
   {
    "duration": 6,
    "start_time": "2024-04-03T19:27:05.089Z"
   },
   {
    "duration": 5,
    "start_time": "2024-04-03T19:27:05.097Z"
   },
   {
    "duration": 15,
    "start_time": "2024-04-03T19:27:05.103Z"
   },
   {
    "duration": 299,
    "start_time": "2024-04-03T19:27:05.119Z"
   },
   {
    "duration": 304,
    "start_time": "2024-04-03T19:27:05.420Z"
   },
   {
    "duration": 228,
    "start_time": "2024-04-03T19:27:05.725Z"
   },
   {
    "duration": 362,
    "start_time": "2024-04-03T19:27:05.954Z"
   },
   {
    "duration": 233,
    "start_time": "2024-04-03T19:27:06.317Z"
   },
   {
    "duration": 353,
    "start_time": "2024-04-03T19:27:06.551Z"
   },
   {
    "duration": 161,
    "start_time": "2024-04-03T19:27:06.905Z"
   },
   {
    "duration": 4,
    "start_time": "2024-04-03T19:27:07.068Z"
   },
   {
    "duration": 163,
    "start_time": "2024-04-03T19:27:07.073Z"
   },
   {
    "duration": 185,
    "start_time": "2024-04-03T19:27:07.238Z"
   },
   {
    "duration": 4,
    "start_time": "2024-04-03T19:27:07.424Z"
   },
   {
    "duration": 13,
    "start_time": "2024-04-03T19:27:07.430Z"
   },
   {
    "duration": 119,
    "start_time": "2024-04-03T19:27:07.445Z"
   },
   {
    "duration": 167,
    "start_time": "2024-04-03T19:27:07.565Z"
   },
   {
    "duration": 9,
    "start_time": "2024-04-03T19:27:07.733Z"
   },
   {
    "duration": 19,
    "start_time": "2024-04-03T19:27:07.744Z"
   },
   {
    "duration": 66,
    "start_time": "2024-04-03T19:27:07.765Z"
   },
   {
    "duration": 13,
    "start_time": "2024-04-03T19:27:07.832Z"
   },
   {
    "duration": 1266,
    "start_time": "2024-04-04T14:05:10.170Z"
   },
   {
    "duration": 55,
    "start_time": "2024-04-04T14:05:11.439Z"
   },
   {
    "duration": 5,
    "start_time": "2024-04-04T14:05:11.496Z"
   },
   {
    "duration": 17,
    "start_time": "2024-04-04T14:05:11.503Z"
   },
   {
    "duration": 13,
    "start_time": "2024-04-04T14:05:11.521Z"
   },
   {
    "duration": 53,
    "start_time": "2024-04-04T14:05:11.536Z"
   },
   {
    "duration": 6,
    "start_time": "2024-04-04T14:05:11.590Z"
   },
   {
    "duration": 3,
    "start_time": "2024-04-04T14:05:11.598Z"
   },
   {
    "duration": 20,
    "start_time": "2024-04-04T14:05:11.603Z"
   },
   {
    "duration": 9,
    "start_time": "2024-04-04T14:05:11.625Z"
   },
   {
    "duration": 43,
    "start_time": "2024-04-04T14:05:11.636Z"
   },
   {
    "duration": 31,
    "start_time": "2024-04-04T14:05:11.681Z"
   },
   {
    "duration": 5,
    "start_time": "2024-04-04T14:05:11.714Z"
   },
   {
    "duration": 14,
    "start_time": "2024-04-04T14:05:11.721Z"
   },
   {
    "duration": 16,
    "start_time": "2024-04-04T14:05:11.737Z"
   },
   {
    "duration": 313,
    "start_time": "2024-04-04T14:05:11.754Z"
   },
   {
    "duration": 336,
    "start_time": "2024-04-04T14:05:12.072Z"
   },
   {
    "duration": 251,
    "start_time": "2024-04-04T14:05:12.410Z"
   },
   {
    "duration": 347,
    "start_time": "2024-04-04T14:05:12.663Z"
   },
   {
    "duration": 265,
    "start_time": "2024-04-04T14:05:13.012Z"
   },
   {
    "duration": 344,
    "start_time": "2024-04-04T14:05:13.279Z"
   },
   {
    "duration": 187,
    "start_time": "2024-04-04T14:05:13.625Z"
   },
   {
    "duration": 5,
    "start_time": "2024-04-04T14:05:13.814Z"
   },
   {
    "duration": 193,
    "start_time": "2024-04-04T14:05:13.820Z"
   },
   {
    "duration": 209,
    "start_time": "2024-04-04T14:05:14.015Z"
   },
   {
    "duration": 4,
    "start_time": "2024-04-04T14:05:14.226Z"
   },
   {
    "duration": 22,
    "start_time": "2024-04-04T14:05:14.232Z"
   },
   {
    "duration": 134,
    "start_time": "2024-04-04T14:05:14.258Z"
   },
   {
    "duration": 160,
    "start_time": "2024-04-04T14:05:14.394Z"
   },
   {
    "duration": 21,
    "start_time": "2024-04-04T14:05:14.555Z"
   },
   {
    "duration": 10,
    "start_time": "2024-04-04T14:05:14.578Z"
   },
   {
    "duration": 31,
    "start_time": "2024-04-04T14:05:14.590Z"
   },
   {
    "duration": 14,
    "start_time": "2024-04-04T14:05:14.623Z"
   },
   {
    "duration": 1277,
    "start_time": "2024-04-04T14:12:37.192Z"
   },
   {
    "duration": 48,
    "start_time": "2024-04-04T14:12:38.471Z"
   },
   {
    "duration": 3,
    "start_time": "2024-04-04T14:12:38.521Z"
   },
   {
    "duration": 23,
    "start_time": "2024-04-04T14:12:38.527Z"
   },
   {
    "duration": 20,
    "start_time": "2024-04-04T14:12:38.554Z"
   },
   {
    "duration": 57,
    "start_time": "2024-04-04T14:12:38.576Z"
   },
   {
    "duration": 9,
    "start_time": "2024-04-04T14:12:38.635Z"
   },
   {
    "duration": 25,
    "start_time": "2024-04-04T14:12:38.646Z"
   },
   {
    "duration": 43,
    "start_time": "2024-04-04T14:12:38.673Z"
   },
   {
    "duration": 23,
    "start_time": "2024-04-04T14:12:38.719Z"
   },
   {
    "duration": 43,
    "start_time": "2024-04-04T14:12:38.744Z"
   },
   {
    "duration": 40,
    "start_time": "2024-04-04T14:12:38.789Z"
   },
   {
    "duration": 7,
    "start_time": "2024-04-04T14:12:38.831Z"
   },
   {
    "duration": 7,
    "start_time": "2024-04-04T14:12:38.842Z"
   },
   {
    "duration": 29,
    "start_time": "2024-04-04T14:12:38.852Z"
   },
   {
    "duration": 331,
    "start_time": "2024-04-04T14:12:38.883Z"
   },
   {
    "duration": 341,
    "start_time": "2024-04-04T14:12:39.216Z"
   },
   {
    "duration": 255,
    "start_time": "2024-04-04T14:12:39.559Z"
   },
   {
    "duration": 344,
    "start_time": "2024-04-04T14:12:39.816Z"
   },
   {
    "duration": 261,
    "start_time": "2024-04-04T14:12:40.162Z"
   },
   {
    "duration": 348,
    "start_time": "2024-04-04T14:12:40.426Z"
   },
   {
    "duration": 209,
    "start_time": "2024-04-04T14:12:40.776Z"
   },
   {
    "duration": 4,
    "start_time": "2024-04-04T14:12:40.987Z"
   },
   {
    "duration": 190,
    "start_time": "2024-04-04T14:12:40.993Z"
   },
   {
    "duration": 189,
    "start_time": "2024-04-04T14:12:41.184Z"
   },
   {
    "duration": 5,
    "start_time": "2024-04-04T14:12:41.374Z"
   },
   {
    "duration": 20,
    "start_time": "2024-04-04T14:12:41.380Z"
   },
   {
    "duration": 188,
    "start_time": "2024-04-04T14:12:41.402Z"
   },
   {
    "duration": 219,
    "start_time": "2024-04-04T14:12:41.592Z"
   },
   {
    "duration": 13,
    "start_time": "2024-04-04T14:12:41.813Z"
   },
   {
    "duration": 14,
    "start_time": "2024-04-04T14:12:41.828Z"
   },
   {
    "duration": 56,
    "start_time": "2024-04-04T14:12:41.844Z"
   },
   {
    "duration": 15,
    "start_time": "2024-04-04T14:12:41.902Z"
   },
   {
    "duration": 1224,
    "start_time": "2024-04-04T14:13:12.538Z"
   },
   {
    "duration": 47,
    "start_time": "2024-04-04T14:13:13.764Z"
   },
   {
    "duration": 3,
    "start_time": "2024-04-04T14:13:13.813Z"
   },
   {
    "duration": 20,
    "start_time": "2024-04-04T14:13:13.818Z"
   },
   {
    "duration": 13,
    "start_time": "2024-04-04T14:13:13.840Z"
   },
   {
    "duration": 68,
    "start_time": "2024-04-04T14:13:13.855Z"
   },
   {
    "duration": 6,
    "start_time": "2024-04-04T14:13:13.925Z"
   },
   {
    "duration": 8,
    "start_time": "2024-04-04T14:13:13.932Z"
   },
   {
    "duration": 23,
    "start_time": "2024-04-04T14:13:13.942Z"
   },
   {
    "duration": 4,
    "start_time": "2024-04-04T14:13:13.967Z"
   },
   {
    "duration": 30,
    "start_time": "2024-04-04T14:13:13.973Z"
   },
   {
    "duration": 36,
    "start_time": "2024-04-04T14:13:14.004Z"
   },
   {
    "duration": 7,
    "start_time": "2024-04-04T14:13:14.042Z"
   },
   {
    "duration": 9,
    "start_time": "2024-04-04T14:13:14.052Z"
   },
   {
    "duration": 18,
    "start_time": "2024-04-04T14:13:14.062Z"
   },
   {
    "duration": 326,
    "start_time": "2024-04-04T14:13:14.082Z"
   },
   {
    "duration": 335,
    "start_time": "2024-04-04T14:13:14.410Z"
   },
   {
    "duration": 259,
    "start_time": "2024-04-04T14:13:14.747Z"
   },
   {
    "duration": 312,
    "start_time": "2024-04-04T14:13:15.008Z"
   },
   {
    "duration": 258,
    "start_time": "2024-04-04T14:13:15.322Z"
   },
   {
    "duration": 331,
    "start_time": "2024-04-04T14:13:15.582Z"
   },
   {
    "duration": 193,
    "start_time": "2024-04-04T14:13:15.914Z"
   },
   {
    "duration": 5,
    "start_time": "2024-04-04T14:13:16.109Z"
   },
   {
    "duration": 193,
    "start_time": "2024-04-04T14:13:16.115Z"
   },
   {
    "duration": 197,
    "start_time": "2024-04-04T14:13:16.310Z"
   },
   {
    "duration": 5,
    "start_time": "2024-04-04T14:13:16.509Z"
   },
   {
    "duration": 15,
    "start_time": "2024-04-04T14:13:16.516Z"
   },
   {
    "duration": 141,
    "start_time": "2024-04-04T14:13:16.533Z"
   },
   {
    "duration": 167,
    "start_time": "2024-04-04T14:13:16.676Z"
   },
   {
    "duration": 11,
    "start_time": "2024-04-04T14:13:16.844Z"
   },
   {
    "duration": 23,
    "start_time": "2024-04-04T14:13:16.857Z"
   },
   {
    "duration": 45,
    "start_time": "2024-04-04T14:13:16.882Z"
   },
   {
    "duration": 14,
    "start_time": "2024-04-04T14:13:16.929Z"
   }
  ],
  "kernelspec": {
   "display_name": "Python 3 (ipykernel)",
   "language": "python",
   "name": "python3"
  },
  "language_info": {
   "codemirror_mode": {
    "name": "ipython",
    "version": 3
   },
   "file_extension": ".py",
   "mimetype": "text/x-python",
   "name": "python",
   "nbconvert_exporter": "python",
   "pygments_lexer": "ipython3",
   "version": "3.11.4"
  },
  "toc": {
   "base_numbering": 1,
   "nav_menu": {},
   "number_sections": true,
   "sideBar": true,
   "skip_h1_title": true,
   "title_cell": "Table of Contents",
   "title_sidebar": "Contents",
   "toc_cell": false,
   "toc_position": {},
   "toc_section_display": true,
   "toc_window_display": false
  }
 },
 "nbformat": 4,
 "nbformat_minor": 2
}
